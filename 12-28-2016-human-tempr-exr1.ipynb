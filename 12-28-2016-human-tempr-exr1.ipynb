{
 "cells": [
  {
   "cell_type": "markdown",
   "metadata": {
    "nbpresent": {
     "id": "edbcc07b-a77e-410d-91bc-1258bdb49bce"
    }
   },
   "source": [
    "## What is the True Normal Human Body Temperature?\n",
    "### Background\n",
    "The mean normal body temperature was held to be 37$^{\\circ}$C or 98.6$^{\\circ}$F for more than 120 years since it was first conceptualized and reported by Carl Wunderlich in a famous 1868 book. But, is this value statistically correct?"
   ]
  },
  {
   "cell_type": "markdown",
   "metadata": {
    "nbpresent": {
     "id": "8fcc0355-58ab-4c99-b606-e857a7ed8bf1"
    }
   },
   "source": [
    "More information on this dataset can be found here: http://www.amstat.org/publications/jse/datasets/normtemp.txt, http://www.amstat.org/publications/jse/jse_data_archive.htm\n",
    "\n",
    "Let's start with looking at the dataset."
   ]
  },
  {
   "cell_type": "code",
   "execution_count": 1,
   "metadata": {
    "collapsed": false,
    "nbpresent": {
     "id": "2aeb332e-1df1-4540-913d-20e88b8c6949"
    }
   },
   "outputs": [],
   "source": [
    "import pandas as pd\n",
    "import seaborn as sns\n",
    "import matplotlib.pyplot as plt\n",
    "import numpy as np\n",
    "import scipy.stats as st\n",
    "import statsmodels.stats.api as sms\n",
    "%matplotlib inline\n",
    "sns.set(color_codes= True)\n",
    "sns.mpl.rc(\"figure\", figsize=(6, 4))"
   ]
  },
  {
   "cell_type": "code",
   "execution_count": 2,
   "metadata": {
    "collapsed": true,
    "nbpresent": {
     "id": "78cc3384-6cd0-4c80-864a-1dbfd61670c6"
    }
   },
   "outputs": [],
   "source": [
    "df = pd.read_csv('data/human_body_temperature.csv')"
   ]
  },
  {
   "cell_type": "code",
   "execution_count": 3,
   "metadata": {
    "collapsed": false,
    "nbpresent": {
     "id": "6368e738-b91c-4d57-a46d-87ad857d929e"
    }
   },
   "outputs": [
    {
     "data": {
      "text/html": [
       "<div>\n",
       "<table border=\"1\" class=\"dataframe\">\n",
       "  <thead>\n",
       "    <tr style=\"text-align: right;\">\n",
       "      <th></th>\n",
       "      <th>temperature</th>\n",
       "      <th>gender</th>\n",
       "      <th>heart_rate</th>\n",
       "    </tr>\n",
       "  </thead>\n",
       "  <tbody>\n",
       "    <tr>\n",
       "      <th>0</th>\n",
       "      <td>99.3</td>\n",
       "      <td>F</td>\n",
       "      <td>68.0</td>\n",
       "    </tr>\n",
       "    <tr>\n",
       "      <th>1</th>\n",
       "      <td>98.4</td>\n",
       "      <td>F</td>\n",
       "      <td>81.0</td>\n",
       "    </tr>\n",
       "    <tr>\n",
       "      <th>2</th>\n",
       "      <td>97.8</td>\n",
       "      <td>M</td>\n",
       "      <td>73.0</td>\n",
       "    </tr>\n",
       "    <tr>\n",
       "      <th>3</th>\n",
       "      <td>99.2</td>\n",
       "      <td>F</td>\n",
       "      <td>66.0</td>\n",
       "    </tr>\n",
       "    <tr>\n",
       "      <th>4</th>\n",
       "      <td>98.0</td>\n",
       "      <td>F</td>\n",
       "      <td>73.0</td>\n",
       "    </tr>\n",
       "  </tbody>\n",
       "</table>\n",
       "</div>"
      ],
      "text/plain": [
       "   temperature gender  heart_rate\n",
       "0         99.3      F        68.0\n",
       "1         98.4      F        81.0\n",
       "2         97.8      M        73.0\n",
       "3         99.2      F        66.0\n",
       "4         98.0      F        73.0"
      ]
     },
     "execution_count": 3,
     "metadata": {},
     "output_type": "execute_result"
    }
   ],
   "source": [
    "df.head()"
   ]
  },
  {
   "cell_type": "code",
   "execution_count": 4,
   "metadata": {
    "collapsed": false,
    "nbpresent": {
     "id": "2204cf60-e8e8-4662-95dd-7cbe5b9ac2f9"
    }
   },
   "outputs": [
    {
     "name": "stdout",
     "output_type": "stream",
     "text": [
      "<class 'pandas.core.frame.DataFrame'>\n",
      "RangeIndex: 130 entries, 0 to 129\n",
      "Data columns (total 3 columns):\n",
      "temperature    130 non-null float64\n",
      "gender         130 non-null object\n",
      "heart_rate     130 non-null float64\n",
      "dtypes: float64(2), object(1)\n",
      "memory usage: 3.1+ KB\n"
     ]
    }
   ],
   "source": [
    "df.info()"
   ]
  },
  {
   "cell_type": "code",
   "execution_count": 5,
   "metadata": {
    "collapsed": false,
    "nbpresent": {
     "id": "a2964088-bc29-4730-ab1c-dc55a0efd3f4"
    }
   },
   "outputs": [
    {
     "data": {
      "text/html": [
       "<div>\n",
       "<table border=\"1\" class=\"dataframe\">\n",
       "  <thead>\n",
       "    <tr style=\"text-align: right;\">\n",
       "      <th></th>\n",
       "      <th>temperature</th>\n",
       "      <th>heart_rate</th>\n",
       "    </tr>\n",
       "  </thead>\n",
       "  <tbody>\n",
       "    <tr>\n",
       "      <th>count</th>\n",
       "      <td>130.000000</td>\n",
       "      <td>130.000000</td>\n",
       "    </tr>\n",
       "    <tr>\n",
       "      <th>mean</th>\n",
       "      <td>98.249231</td>\n",
       "      <td>73.761538</td>\n",
       "    </tr>\n",
       "    <tr>\n",
       "      <th>std</th>\n",
       "      <td>0.733183</td>\n",
       "      <td>7.062077</td>\n",
       "    </tr>\n",
       "    <tr>\n",
       "      <th>min</th>\n",
       "      <td>96.300000</td>\n",
       "      <td>57.000000</td>\n",
       "    </tr>\n",
       "    <tr>\n",
       "      <th>25%</th>\n",
       "      <td>97.800000</td>\n",
       "      <td>69.000000</td>\n",
       "    </tr>\n",
       "    <tr>\n",
       "      <th>50%</th>\n",
       "      <td>98.300000</td>\n",
       "      <td>74.000000</td>\n",
       "    </tr>\n",
       "    <tr>\n",
       "      <th>75%</th>\n",
       "      <td>98.700000</td>\n",
       "      <td>79.000000</td>\n",
       "    </tr>\n",
       "    <tr>\n",
       "      <th>max</th>\n",
       "      <td>100.800000</td>\n",
       "      <td>89.000000</td>\n",
       "    </tr>\n",
       "  </tbody>\n",
       "</table>\n",
       "</div>"
      ],
      "text/plain": [
       "       temperature  heart_rate\n",
       "count   130.000000  130.000000\n",
       "mean     98.249231   73.761538\n",
       "std       0.733183    7.062077\n",
       "min      96.300000   57.000000\n",
       "25%      97.800000   69.000000\n",
       "50%      98.300000   74.000000\n",
       "75%      98.700000   79.000000\n",
       "max     100.800000   89.000000"
      ]
     },
     "execution_count": 5,
     "metadata": {},
     "output_type": "execute_result"
    }
   ],
   "source": [
    "df.describe()"
   ]
  },
  {
   "cell_type": "markdown",
   "metadata": {
    "nbpresent": {
     "id": "5055d86d-950a-43c6-8003-a726885a9f45"
    }
   },
   "source": [
    "### Step 1. One variable exploration:\n",
    "I start with exploring temperature first.The mean and standard deviations are 98.25 and 0.73, respectively. Let's look at the boxplot to see IQR:"
   ]
  },
  {
   "cell_type": "code",
   "execution_count": 6,
   "metadata": {
    "collapsed": false,
    "nbpresent": {
     "id": "d684a0d1-12c2-42b9-9546-92ab9f761810"
    }
   },
   "outputs": [
    {
     "name": "stderr",
     "output_type": "stream",
     "text": [
      "C:\\Users\\Bis\\Anaconda2\\lib\\site-packages\\seaborn\\categorical.py:2171: UserWarning: The boxplot API has been changed. Attempting to adjust your arguments for the new API (which might not work). Please update your code. See the version 0.6 release notes for more info.\n",
      "  warnings.warn(msg, UserWarning)\n"
     ]
    },
    {
     "data": {
      "text/plain": [
       "<matplotlib.text.Text at 0xc185cf8>"
      ]
     },
     "execution_count": 6,
     "metadata": {},
     "output_type": "execute_result"
    },
    {
     "data": {
      "image/png": "[encoded data removed]",
      "text/plain": [
       "<matplotlib.figure.Figure at 0xc067e48>"
      ]
     },
     "metadata": {},
     "output_type": "display_data"
    }
   ],
   "source": [
    "sns.boxplot(df.temperature, vert = False);\n",
    "plt.xlabel('Temperature (F)')"
   ]
  },
  {
   "cell_type": "markdown",
   "metadata": {
    "nbpresent": {
     "id": "c44a6938-312d-42a7-beed-21387faf6397"
    }
   },
   "source": [
    "<li> ** Is the sample distribution normal? ** \n",
    "<p> Let's assume that the sample is a true representative of the population. Then it is likely that the population distribution would also be normal if the sample is approximately normally distributed. However, according to the central limit theorem, even if the population distribution is unknown or not normal, the distribution of sample means will be normal if the sample size is large enough. If the sample distribution is not normal, there are ways to approximate the population distribution. \n",
    "<p> Let's look at the sample distribution before doing anything else:"
   ]
  },
  {
   "cell_type": "code",
   "execution_count": 7,
   "metadata": {
    "collapsed": false,
    "nbpresent": {
     "id": "88eea43c-9a9b-4d0b-9089-b796f93956eb"
    }
   },
   "outputs": [
    {
     "data": {
      "text/plain": [
       "11.401754250991379"
      ]
     },
     "execution_count": 7,
     "metadata": {},
     "output_type": "execute_result"
    }
   ],
   "source": [
    "np.sqrt(130) # to estimate the number of bins (square root of total number of datapoints)"
   ]
  },
  {
   "cell_type": "code",
   "execution_count": 8,
   "metadata": {
    "collapsed": false,
    "nbpresent": {
     "id": "fe259f89-1bd6-4032-b372-31abdc271cd4"
    }
   },
   "outputs": [
    {
     "data": {
      "text/plain": [
       "<matplotlib.text.Text at 0xc1ad0b8>"
      ]
     },
     "execution_count": 8,
     "metadata": {},
     "output_type": "execute_result"
    },
    {
     "data": {
      "image/png": "[encoded data removed]",
      "text/plain": [
       "<matplotlib.figure.Figure at 0xc20bd68>"
      ]
     },
     "metadata": {},
     "output_type": "display_data"
    }
   ],
   "source": [
    "sns.distplot(df.temperature,  kde= False, bins = 11, rug= False)\n",
    "plt.xlabel('Temperature (F)')"
   ]
  },
  {
   "cell_type": "code",
   "execution_count": 9,
   "metadata": {
    "collapsed": false,
    "nbpresent": {
     "id": "57390f07-925e-40d0-8986-6b6a2e37db10"
    }
   },
   "outputs": [
    {
     "data": {
      "text/plain": [
       "<matplotlib.text.Text at 0xc2172e8>"
      ]
     },
     "execution_count": 9,
     "metadata": {},
     "output_type": "execute_result"
    },
    {
     "data": {
      "image/png": "[encoded data removed]",
      "text/plain": [
       "<matplotlib.figure.Figure at 0xc39b4a8>"
      ]
     },
     "metadata": {},
     "output_type": "display_data"
    }
   ],
   "source": [
    "sns.kdeplot(df.temperature, shade=True); # We can do a kernel density estimation and plot the distribution function.\n",
    "plt.xlabel('Temperature (F)')"
   ]
  },
  {
   "cell_type": "markdown",
   "metadata": {
    "nbpresent": {
     "id": "ae3f36e0-7f65-498a-a27f-7347eaa2c4a5"
    }
   },
   "source": [
    "<li> The next couple of cells are just to see if the temperature was recorded in F or C. If we plot histogram with 0.1 degree separation, there is a periodic rise and fall, indicating a 0.1 round off. Therefore, the original data was in centrigrade. see here: https://ww2.amstat.org/PUBLICATIONS/JSE/v4n2/datasets.shoemaker.html"
   ]
  },
  {
   "cell_type": "code",
   "execution_count": 10,
   "metadata": {
    "collapsed": false,
    "nbpresent": {
     "id": "a5cc164d-dbd9-4dff-aabc-3b3cfd34f945"
    }
   },
   "outputs": [
    {
     "data": {
      "text/plain": [
       "1.0350000000000001"
      ]
     },
     "execution_count": 10,
     "metadata": {},
     "output_type": "execute_result"
    }
   ],
   "source": [
    "(df.temperature.max()-df.temperature.min())*0.23 # to plot the tempr with approximately .1 degree separation"
   ]
  },
  {
   "cell_type": "code",
   "execution_count": 11,
   "metadata": {
    "collapsed": false,
    "nbpresent": {
     "id": "75bdd8bb-d66f-475f-9854-df8e7feee6a9"
    }
   },
   "outputs": [
    {
     "data": {
      "text/plain": [
       "2.0700000000000003"
      ]
     },
     "execution_count": 11,
     "metadata": {},
     "output_type": "execute_result"
    }
   ],
   "source": [
    "(df.temperature.max()-df.temperature.min())*0.46"
   ]
  },
  {
   "cell_type": "code",
   "execution_count": 12,
   "metadata": {
    "collapsed": false,
    "nbpresent": {
     "id": "e6b06094-de1a-4a42-b7e7-9faac8154202"
    }
   },
   "outputs": [],
   "source": [
    "#sns.distplot(df.temperature,  kde= False, bins = 23, rug= False)\n",
    "#plt.xlabel('Temperature (F)')"
   ]
  },
  {
   "cell_type": "code",
   "execution_count": 13,
   "metadata": {
    "collapsed": false,
    "nbpresent": {
     "id": "f05c843a-930f-4206-958c-e91404cd629e"
    }
   },
   "outputs": [],
   "source": [
    "#sns.distplot(df.temperature,  kde= False, bins = 46, rug= False)\n",
    "#plt.xlabel('Temperature (F)')"
   ]
  },
  {
   "cell_type": "markdown",
   "metadata": {
    "nbpresent": {
     "id": "6a142ee1-fbec-4713-b50d-2bddecb4c977"
    }
   },
   "source": [
    "<li> The sample approximately follows a normal distribution with $\\bar{x} $ = 98.25 and $s$ = 0.73. We can do a number of normality tests to see if the population follows the similar distribution as the sample: \n",
    "\n",
    "<p> we can do a probplot:"
   ]
  },
  {
   "cell_type": "code",
   "execution_count": 14,
   "metadata": {
    "collapsed": false,
    "nbpresent": {
     "id": "22d9328f-45a5-4c2e-8a17-007dbecdcc78"
    }
   },
   "outputs": [
    {
     "data": {
      "image/png": "[encoded data removed]",
      "text/plain": [
       "<matplotlib.figure.Figure at 0xc68d128>"
      ]
     },
     "metadata": {},
     "output_type": "display_data"
    }
   ],
   "source": [
    "st.probplot(df.temperature, dist = 'norm', fit=True, plot = plt, rvalue=True)\n",
    "plt.show()"
   ]
  },
  {
   "cell_type": "markdown",
   "metadata": {
    "nbpresent": {
     "id": "dd1b781e-2623-41a6-a696-13a3fac43473"
    }
   },
   "source": [
    "<li> A good line fit with a $R^2$ value of 0.983. This strongly suggests that the distribution of the population from which the sample is drawn is likely to be same. We can do other normality tests too:"
   ]
  },
  {
   "cell_type": "code",
   "execution_count": 15,
   "metadata": {
    "collapsed": false,
    "nbpresent": {
     "id": "4596031d-1b81-4075-bfa4-c1fcfe672ce5"
    }
   },
   "outputs": [
    {
     "data": {
      "text/plain": [
       "NormaltestResult(statistic=2.7038014333192031, pvalue=0.2587479863488254)"
      ]
     },
     "execution_count": 15,
     "metadata": {},
     "output_type": "execute_result"
    }
   ],
   "source": [
    "st.mstats.normaltest(df.temperature, axis=0) # D’Agostino and Pearson normality test # see plotly's normality test"
   ]
  },
  {
   "cell_type": "code",
   "execution_count": 16,
   "metadata": {
    "collapsed": false,
    "nbpresent": {
     "id": "5c26ed23-5f68-4f3a-b050-da797b6b5788"
    }
   },
   "outputs": [
    {
     "data": {
      "text/plain": [
       "(0.9865769743919373, 0.2331680953502655)"
      ]
     },
     "execution_count": 16,
     "metadata": {},
     "output_type": "execute_result"
    }
   ],
   "source": [
    "st.shapiro(df.temperature) # Shapiro Wilk normality test "
   ]
  },
  {
   "cell_type": "code",
   "execution_count": 17,
   "metadata": {
    "collapsed": false,
    "nbpresent": {
     "id": "24c0bbd7-b642-42a6-8eb5-fb47404ae31c"
    }
   },
   "outputs": [
    {
     "data": {
      "text/plain": [
       "AndersonResult(statistic=0.52010388267143526, critical_values=array([ 0.56 ,  0.637,  0.765,  0.892,  1.061]), significance_level=array([ 15. ,  10. ,   5. ,   2.5,   1. ]))"
      ]
     },
     "execution_count": 17,
     "metadata": {},
     "output_type": "execute_result"
    }
   ],
   "source": [
    "anderson_results = st.anderson(df.temperature) # Anderson Darling normality test\n",
    "anderson_results"
   ]
  },
  {
   "cell_type": "code",
   "execution_count": 18,
   "metadata": {
    "collapsed": false,
    "nbpresent": {
     "id": "f14ccbc6-7fc2-44a8-8f38-b0ced6cdb586"
    }
   },
   "outputs": [
    {
     "data": {
      "text/plain": [
       "(0.52010388267143526, 0.76500000000000001)"
      ]
     },
     "execution_count": 18,
     "metadata": {},
     "output_type": "execute_result"
    }
   ],
   "source": [
    "anderson_results[0], anderson_results[1][2] # t-stat and p-value"
   ]
  },
  {
   "cell_type": "code",
   "execution_count": 19,
   "metadata": {
    "collapsed": false,
    "nbpresent": {
     "id": "f426a87f-19a8-40ed-8d08-9c547c4d8314"
    }
   },
   "outputs": [
    {
     "data": {
      "text/plain": [
       "KstestResult(statistic=1.0, pvalue=0.0)"
      ]
     },
     "execution_count": 19,
     "metadata": {},
     "output_type": "execute_result"
    }
   ],
   "source": [
    "st.kstest(df.temperature, 'norm')"
   ]
  },
  {
   "cell_type": "code",
   "execution_count": 20,
   "metadata": {
    "collapsed": false,
    "nbpresent": {
     "id": "62877486-cfb0-451c-89d8-473489a2fe06"
    }
   },
   "outputs": [
    {
     "data": {
      "text/plain": [
       "SkewtestResult(statistic=-0.021370491432771001, pvalue=0.98295011261353815)"
      ]
     },
     "execution_count": 20,
     "metadata": {},
     "output_type": "execute_result"
    }
   ],
   "source": [
    "st.skewtest(df.temperature)"
   ]
  },
  {
   "cell_type": "markdown",
   "metadata": {
    "nbpresent": {
     "id": "adbfa273-9db0-430f-8a3e-1e816f8dc91a"
    }
   },
   "source": [
    "p-value 0.98 meaning that we cannot reject that our sample has skew and kurtosis in the distribution. ** BUTdoes it mean that it has a negative skew? becasue the stat is negative?**"
   ]
  },
  {
   "cell_type": "code",
   "execution_count": 21,
   "metadata": {
    "collapsed": false,
    "nbpresent": {
     "id": "aa10ef29-40a0-44e9-85f2-7029eee59756"
    }
   },
   "outputs": [
    {
     "data": {
      "text/plain": [
       "KurtosistestResult(statistic=1.6441851280847679, pvalue=0.10013796794683075)"
      ]
     },
     "execution_count": 21,
     "metadata": {},
     "output_type": "execute_result"
    }
   ],
   "source": [
    "st.kurtosistest(df.temperature) # kurtosis test"
   ]
  },
  {
   "cell_type": "code",
   "execution_count": 22,
   "metadata": {
    "collapsed": false,
    "nbpresent": {
     "id": "8e837a90-bf1d-4a9b-96f5-3140221b8632"
    }
   },
   "outputs": [
    {
     "data": {
      "text/plain": [
       "NormaltestResult(statistic=2.7038014333192031, pvalue=0.2587479863488254)"
      ]
     },
     "execution_count": 22,
     "metadata": {},
     "output_type": "execute_result"
    }
   ],
   "source": [
    "st.normaltest(df.temperature) # both skew and kurtosis"
   ]
  },
  {
   "cell_type": "markdown",
   "metadata": {
    "nbpresent": {
     "id": "c764c815-d745-4c80-a22a-99b91f5ba597"
    }
   },
   "source": [
    "<li> The probability plot and other normality tests suggest **NOT** to reject the null hypothesis (i.e., $H_0$:the sample is derived from a population which follows a particular distribution. In this case, it is a  normal distribution). \n",
    "\n",
    "<p> We can either use a z-test or t-test. The z-test can be performed when population standard deviation ($\\sigma$) is known and sample size > 30. Since we don't know ($\\sigma$), we should perform a t-test but given a strong likeliness of the sample drawn from a normal distribution we can perform a z-test. Since, this is an exploratory situation, we will do both and compare the results. Here, the other thing is to mention that the temperature is an independent variable because one measurement does not change or influence other ones and vice versa.\n",
    "\n",
    "<p> We estimate the population mean $\\mu$ as 98.6$^{\\circ}$F because it is the popular belief. So our null hypothesis is <p> $H_0$ = $\\mu$ = 98.6  and alternate hypothesis $H_a \\neq$ 98.6."
   ]
  },
  {
   "cell_type": "code",
   "execution_count": 23,
   "metadata": {
    "collapsed": false,
    "nbpresent": {
     "id": "abb0bb4f-2272-4538-b23e-034b326ce158"
    }
   },
   "outputs": [
    {
     "data": {
      "text/plain": [
       "(-5.4548232923645195, 4.9021570141012155e-08)"
      ]
     },
     "execution_count": 23,
     "metadata": {},
     "output_type": "execute_result"
    }
   ],
   "source": [
    "sms.ztest(df.temperature, value=98.6, alternative='two-sided')"
   ]
  },
  {
   "cell_type": "markdown",
   "metadata": {
    "nbpresent": {
     "id": "1b680175-9215-46fb-9894-cb62bf6196a9"
    }
   },
   "source": [
    "<li> p-value < .001 suggests that we can reject the null hypothesis (actual mean is **NOT** 98.6). Let's see if we get a similar result with one sample t-test."
   ]
  },
  {
   "cell_type": "code",
   "execution_count": 24,
   "metadata": {
    "collapsed": false,
    "nbpresent": {
     "id": "927bc5bc-881e-4ef3-adb4-65ea6e44fc33"
    }
   },
   "outputs": [
    {
     "data": {
      "text/plain": [
       "Ttest_1sampResult(statistic=-5.4548232923645195, pvalue=2.4106320415561276e-07)"
      ]
     },
     "execution_count": 24,
     "metadata": {},
     "output_type": "execute_result"
    }
   ],
   "source": [
    "st.ttest_1samp(df.temperature, 98.6)"
   ]
  },
  {
   "cell_type": "markdown",
   "metadata": {
    "nbpresent": {
     "id": "3eb74ada-cacb-4248-a4ab-b1fb1725d9ea"
    }
   },
   "source": [
    "<li> t-test also indicates essentially the same results. Now let's calculate t-test with the sample mean and the confidence intervals at 95% and 99% levels."
   ]
  },
  {
   "cell_type": "code",
   "execution_count": 25,
   "metadata": {
    "collapsed": false,
    "nbpresent": {
     "id": "bf9992e7-8c80-454d-9a6c-d4291315af9c"
    }
   },
   "outputs": [
    {
     "data": {
      "text/plain": [
       "Ttest_1sampResult(statistic=-4.419868934050681e-13, pvalue=0.99999999999964806)"
      ]
     },
     "execution_count": 25,
     "metadata": {},
     "output_type": "execute_result"
    }
   ],
   "source": [
    "st.ttest_1samp(df.temperature, np.mean(df.temperature))"
   ]
  },
  {
   "cell_type": "code",
   "execution_count": 26,
   "metadata": {
    "collapsed": false,
    "nbpresent": {
     "id": "ae1b13cc-3967-4423-9d26-e225d775b357"
    }
   },
   "outputs": [
    {
     "data": {
      "text/plain": [
       "(98.123682111456645, 98.37477942700491)"
      ]
     },
     "execution_count": 26,
     "metadata": {},
     "output_type": "execute_result"
    }
   ],
   "source": [
    "st.norm.interval(0.95, loc=np.mean(df.temperature), scale=np.std(df.temperature)/np.sqrt(len(df.temperature)))"
   ]
  },
  {
   "cell_type": "code",
   "execution_count": 27,
   "metadata": {
    "collapsed": false,
    "nbpresent": {
     "id": "26d8dea5-5856-4570-8913-87a2b01ce68a"
    }
   },
   "outputs": [
    {
     "data": {
      "text/plain": [
       "(98.123196428181657, 98.375265110279898)"
      ]
     },
     "execution_count": 27,
     "metadata": {},
     "output_type": "execute_result"
    }
   ],
   "source": [
    "st.norm.interval(0.95, loc=np.mean(df.temperature), scale=st.sem(df.temperature)) \n",
    "# note that sem stats.sem(a) == a.std(ddof=1) / np.sqrt(len(a)) except for floating point errors "
   ]
  },
  {
   "cell_type": "code",
   "execution_count": 28,
   "metadata": {
    "collapsed": false,
    "nbpresent": {
     "id": "acec6e5a-a4fb-47eb-90f2-3a5eaf341efb"
    }
   },
   "outputs": [
    {
     "data": {
      "text/plain": [
       "(98.084231864012764, 98.414229674448791)"
      ]
     },
     "execution_count": 28,
     "metadata": {},
     "output_type": "execute_result"
    }
   ],
   "source": [
    "st.norm.interval(0.99, loc=np.mean(df.temperature), scale=np.std(df.temperature)/np.sqrt(len(df.temperature)))"
   ]
  },
  {
   "cell_type": "markdown",
   "metadata": {
    "nbpresent": {
     "id": "9a2f28bb-67ff-49c9-8b16-6ca8dff91d0a"
    }
   },
   "source": [
    "So, even at the 99% confidence level, the \"normal\" temperature (in between 98.08 to 98.41 $^{\\circ}$F) is below 98.6$^{\\circ}$F, contradictory to popular belief!!! Again, similar result is obtained using t-test."
   ]
  },
  {
   "cell_type": "code",
   "execution_count": 29,
   "metadata": {
    "collapsed": false,
    "nbpresent": {
     "id": "92e92e59-3b04-4b3c-9518-ac7b9b6c9d72"
    }
   },
   "outputs": [
    {
     "data": {
      "text/plain": [
       "(98.122002905608042, 98.376458632853513)"
      ]
     },
     "execution_count": 29,
     "metadata": {},
     "output_type": "execute_result"
    }
   ],
   "source": [
    "st.t.interval(0.95, len(df.temperature)-1, loc=np.mean(df.temperature), scale=st.sem(df.temperature))"
   ]
  },
  {
   "cell_type": "code",
   "execution_count": 30,
   "metadata": {
    "collapsed": false,
    "nbpresent": {
     "id": "76f7276b-c053-477e-806e-bfb2143bae59"
    }
   },
   "outputs": [
    {
     "data": {
      "text/plain": [
       "(0.064304416837891024, 0.7303577789050377)"
      ]
     },
     "execution_count": 30,
     "metadata": {},
     "output_type": "execute_result"
    }
   ],
   "source": [
    "st.sem(df.temperature), np.std(df.temperature)"
   ]
  },
  {
   "cell_type": "markdown",
   "metadata": {
    "nbpresent": {
     "id": "a6272a27-84e1-4925-8659-834ac473daf1"
    }
   },
   "source": [
    "<li> Note that the standard error of the mean (0.06) is much smaller than the sample standard deviation (.73). This is what we expect. \n",
    "\n",
    "<p> Let's simulate our sample and see if we can come to the same solutions as scipy stats t-test and z-test did. We will use three steps: <p> 1) Create a randomly chosen normal distribution with mu and sigma (sample mean and standard deviation). <p> 2) Compute the mean of this distribution (xbar). <p> 3) Repeat steps 1 and 2 1000 times (arbitrary) and make a distribution of xbar."
   ]
  },
  {
   "cell_type": "code",
   "execution_count": 31,
   "metadata": {
    "collapsed": true,
    "nbpresent": {
     "id": "21f655bd-90dc-46a4-b696-0463cd3f71c3"
    }
   },
   "outputs": [],
   "source": [
    "m = 1000\n",
    "n = 130\n",
    "mu = 98.25\n",
    "sigma  = 0.73\n",
    "\n",
    "means = []\n",
    "for j in range(m):\n",
    "    xs = np.random.normal(mu, sigma, n)\n",
    "    xbar = np.mean(xs)\n",
    "    means.append(xbar)\n",
    "means.sort()"
   ]
  },
  {
   "cell_type": "markdown",
   "metadata": {
    "nbpresent": {
     "id": "7150c7be-fe59-418f-a5f0-aac576cef7be"
    }
   },
   "source": [
    "Plot a histogram and corresponding density distribution and CIs. "
   ]
  },
  {
   "cell_type": "code",
   "execution_count": 32,
   "metadata": {
    "collapsed": false,
    "nbpresent": {
     "id": "06d1a1bb-3d44-44f8-9763-dc2c9e6d9679"
    }
   },
   "outputs": [
    {
     "name": "stdout",
     "output_type": "stream",
     "text": [
      "CI at 95% level:\n",
      "(98.126413801921515, 98.372871997033982)\n",
      "CI at 99% level:\n",
      "(98.087692413122397, 98.4115933858331)\n",
      "The mean of sample distributions:\n",
      "98.2496428995\n"
     ]
    },
    {
     "data": {
      "text/plain": [
       "<matplotlib.collections.LineCollection at 0xd79ea58>"
      ]
     },
     "execution_count": 32,
     "metadata": {},
     "output_type": "execute_result"
    },
    {
     "data": {
      "image/png": "[encoded data removed]",
      "text/plain": [
       "<matplotlib.figure.Figure at 0xc2e30f0>"
      ]
     },
     "metadata": {},
     "output_type": "display_data"
    }
   ],
   "source": [
    "cint1 = st.norm.interval(0.95, loc=np.mean(means), scale=np.std(means))[0]\n",
    "cint2 = st.norm.interval(0.95, loc=np.mean(means), scale=np.std(means))[1]\n",
    "print ('CI at 95% level:')\n",
    "print(cint1, cint2)\n",
    "print ('CI at 99% level:')\n",
    "print (st.norm.interval(0.99, loc=np.mean(means), scale=np.std(means)))\n",
    "mean1 = np.mean(means)\n",
    "print (\"The mean of sample distributions:\")\n",
    "print (mean1)\n",
    "sns.distplot(means,  kde=True, bins = 30 , rug=False)\n",
    "plt.vlines(cint1, 0, 1, color = 'indianred', linewidth=3)\n",
    "plt.vlines(cint2, 0, 1, color = 'indianred', linewidth=3)\n",
    "plt.vlines(mean1, 0, 6.2, color = 'green', linewidth=3)"
   ]
  },
  {
   "cell_type": "markdown",
   "metadata": {
    "nbpresent": {
     "id": "c41215e2-b733-4bd1-9a47-364c0217c104"
    }
   },
   "source": [
    "### Step 2. Is the male temperature different from the female one? (two-sample test)\n",
    "The question is, if we randomly chose a man and woman, will their temperature be different? What is the probability that if we see a such difference, it would happen purely by chance? How certain are we in our results?"
   ]
  },
  {
   "cell_type": "code",
   "execution_count": 33,
   "metadata": {
    "collapsed": false,
    "nbpresent": {
     "id": "df7c9d91-9d89-416a-871e-61b76c1f710a"
    }
   },
   "outputs": [
    {
     "data": {
      "text/html": [
       "<div>\n",
       "<table border=\"1\" class=\"dataframe\">\n",
       "  <thead>\n",
       "    <tr style=\"text-align: right;\">\n",
       "      <th></th>\n",
       "      <th>temperature</th>\n",
       "      <th>heart_rate</th>\n",
       "    </tr>\n",
       "  </thead>\n",
       "  <tbody>\n",
       "    <tr>\n",
       "      <th>count</th>\n",
       "      <td>65.000000</td>\n",
       "      <td>65.000000</td>\n",
       "    </tr>\n",
       "    <tr>\n",
       "      <th>mean</th>\n",
       "      <td>98.104615</td>\n",
       "      <td>73.369231</td>\n",
       "    </tr>\n",
       "    <tr>\n",
       "      <th>std</th>\n",
       "      <td>0.698756</td>\n",
       "      <td>5.875184</td>\n",
       "    </tr>\n",
       "    <tr>\n",
       "      <th>min</th>\n",
       "      <td>96.300000</td>\n",
       "      <td>58.000000</td>\n",
       "    </tr>\n",
       "    <tr>\n",
       "      <th>25%</th>\n",
       "      <td>97.600000</td>\n",
       "      <td>70.000000</td>\n",
       "    </tr>\n",
       "    <tr>\n",
       "      <th>50%</th>\n",
       "      <td>98.100000</td>\n",
       "      <td>73.000000</td>\n",
       "    </tr>\n",
       "    <tr>\n",
       "      <th>75%</th>\n",
       "      <td>98.600000</td>\n",
       "      <td>78.000000</td>\n",
       "    </tr>\n",
       "    <tr>\n",
       "      <th>max</th>\n",
       "      <td>99.500000</td>\n",
       "      <td>86.000000</td>\n",
       "    </tr>\n",
       "  </tbody>\n",
       "</table>\n",
       "</div>"
      ],
      "text/plain": [
       "       temperature  heart_rate\n",
       "count    65.000000   65.000000\n",
       "mean     98.104615   73.369231\n",
       "std       0.698756    5.875184\n",
       "min      96.300000   58.000000\n",
       "25%      97.600000   70.000000\n",
       "50%      98.100000   73.000000\n",
       "75%      98.600000   78.000000\n",
       "max      99.500000   86.000000"
      ]
     },
     "execution_count": 33,
     "metadata": {},
     "output_type": "execute_result"
    }
   ],
   "source": [
    "df_m = df[df.gender == 'M'] # Sliced the dataset with male only values. I kept the heart rate too.\n",
    "df_m.describe()"
   ]
  },
  {
   "cell_type": "code",
   "execution_count": 34,
   "metadata": {
    "collapsed": false,
    "nbpresent": {
     "id": "d2641faf-1355-4adc-b048-7cee14e192d6"
    }
   },
   "outputs": [
    {
     "data": {
      "text/html": [
       "<div>\n",
       "<table border=\"1\" class=\"dataframe\">\n",
       "  <thead>\n",
       "    <tr style=\"text-align: right;\">\n",
       "      <th></th>\n",
       "      <th>temperature</th>\n",
       "      <th>heart_rate</th>\n",
       "    </tr>\n",
       "  </thead>\n",
       "  <tbody>\n",
       "    <tr>\n",
       "      <th>count</th>\n",
       "      <td>65.000000</td>\n",
       "      <td>65.000000</td>\n",
       "    </tr>\n",
       "    <tr>\n",
       "      <th>mean</th>\n",
       "      <td>98.393846</td>\n",
       "      <td>74.153846</td>\n",
       "    </tr>\n",
       "    <tr>\n",
       "      <th>std</th>\n",
       "      <td>0.743488</td>\n",
       "      <td>8.105227</td>\n",
       "    </tr>\n",
       "    <tr>\n",
       "      <th>min</th>\n",
       "      <td>96.400000</td>\n",
       "      <td>57.000000</td>\n",
       "    </tr>\n",
       "    <tr>\n",
       "      <th>25%</th>\n",
       "      <td>98.000000</td>\n",
       "      <td>68.000000</td>\n",
       "    </tr>\n",
       "    <tr>\n",
       "      <th>50%</th>\n",
       "      <td>98.400000</td>\n",
       "      <td>76.000000</td>\n",
       "    </tr>\n",
       "    <tr>\n",
       "      <th>75%</th>\n",
       "      <td>98.800000</td>\n",
       "      <td>80.000000</td>\n",
       "    </tr>\n",
       "    <tr>\n",
       "      <th>max</th>\n",
       "      <td>100.800000</td>\n",
       "      <td>89.000000</td>\n",
       "    </tr>\n",
       "  </tbody>\n",
       "</table>\n",
       "</div>"
      ],
      "text/plain": [
       "       temperature  heart_rate\n",
       "count    65.000000   65.000000\n",
       "mean     98.393846   74.153846\n",
       "std       0.743488    8.105227\n",
       "min      96.400000   57.000000\n",
       "25%      98.000000   68.000000\n",
       "50%      98.400000   76.000000\n",
       "75%      98.800000   80.000000\n",
       "max     100.800000   89.000000"
      ]
     },
     "execution_count": 34,
     "metadata": {},
     "output_type": "execute_result"
    }
   ],
   "source": [
    "df_f = df[df.gender == 'F'] #Female data\n",
    "df_f.describe()"
   ]
  },
  {
   "cell_type": "code",
   "execution_count": 35,
   "metadata": {
    "collapsed": false,
    "nbpresent": {
     "id": "82a2c39b-921b-47f5-82ca-70664f18e8cc"
    }
   },
   "outputs": [
    {
     "data": {
      "text/plain": [
       "(98.1046153846154, 98.393846153846127)"
      ]
     },
     "execution_count": 35,
     "metadata": {},
     "output_type": "execute_result"
    }
   ],
   "source": [
    "df_m.mean()[0], df_f.mean()[0]"
   ]
  },
  {
   "cell_type": "code",
   "execution_count": 36,
   "metadata": {
    "collapsed": false,
    "nbpresent": {
     "id": "d79fab11-f159-4aea-8bd2-42240467dd9c"
    }
   },
   "outputs": [
    {
     "data": {
      "text/plain": [
       "-0.28923076923072699"
      ]
     },
     "execution_count": 36,
     "metadata": {},
     "output_type": "execute_result"
    }
   ],
   "source": [
    "mean_temp_diff = df_m.mean()[0] - df_f.mean()[0]\n",
    "mean_temp_diff"
   ]
  },
  {
   "cell_type": "code",
   "execution_count": 37,
   "metadata": {
    "collapsed": false,
    "nbpresent": {
     "id": "46a35205-6764-44f1-a57a-417d958c4010"
    }
   },
   "outputs": [
    {
     "data": {
      "text/plain": [
       "-0.044731990404775712"
      ]
     },
     "execution_count": 37,
     "metadata": {},
     "output_type": "execute_result"
    }
   ],
   "source": [
    "std_temp_diff = df_m.std()[0] - df_f.std()[0]\n",
    "std_temp_diff"
   ]
  },
  {
   "cell_type": "markdown",
   "metadata": {
    "nbpresent": {
     "id": "f13eae53-d34b-448f-b783-5b8a23a930d9"
    }
   },
   "source": [
    "<li> There is a mean temperature difference between men and women, with women having the higher body temperature. Let's see some histograms, density functions and probability plots for these two sub samples:"
   ]
  },
  {
   "cell_type": "code",
   "execution_count": 38,
   "metadata": {
    "collapsed": false,
    "nbpresent": {
     "id": "79b51c26-59ec-4392-89a8-52883e2f4711"
    }
   },
   "outputs": [
    {
     "data": {
      "text/plain": [
       "<matplotlib.text.Text at 0xdb49e80>"
      ]
     },
     "execution_count": 38,
     "metadata": {},
     "output_type": "execute_result"
    },
    {
     "data": {
      "image/png": "[encoded data removed]",
      "text/plain": [
       "<matplotlib.figure.Figure at 0xd2243c8>"
      ]
     },
     "metadata": {},
     "output_type": "display_data"
    }
   ],
   "source": [
    "plt.figure(figsize=(10, 8))\n",
    "plt.subplot(221)\n",
    "sns.distplot(df_m.temperature,  kde=True, bins = 8, rug=False)\n",
    "plt.title (\"Male\")\n",
    "plt.xlabel ('Temperature (F)')\n",
    "plt.subplot(222)\n",
    "sns.distplot(df_f.temperature,  kde=True, bins = 8, rug=False)\n",
    "plt.title (\"Female\")\n",
    "plt.xlabel ('Temperature (F)')"
   ]
  },
  {
   "cell_type": "code",
   "execution_count": 39,
   "metadata": {
    "collapsed": false,
    "nbpresent": {
     "id": "59f35abe-000a-4078-9db2-d59a049e8ad2"
    }
   },
   "outputs": [
    {
     "data": {
      "image/png": "[encoded data removed]",
      "text/plain": [
       "<matplotlib.figure.Figure at 0xc8b3c88>"
      ]
     },
     "metadata": {},
     "output_type": "display_data"
    }
   ],
   "source": [
    "st.probplot(df_m.temperature, dist = 'norm', fit=True, plot = plt, rvalue=True)\n",
    "plt.show()"
   ]
  },
  {
   "cell_type": "code",
   "execution_count": 40,
   "metadata": {
    "collapsed": false,
    "nbpresent": {
     "id": "2b86b097-f559-4dd6-8abb-9cdf05448703"
    }
   },
   "outputs": [
    {
     "data": {
      "image/png": "[encoded data removed]",
      "text/plain": [
       "<matplotlib.figure.Figure at 0xca2dba8>"
      ]
     },
     "metadata": {},
     "output_type": "display_data"
    }
   ],
   "source": [
    "st.probplot(df_f.temperature, dist = 'norm', fit=True, plot = plt, rvalue=True)\n",
    "plt.show()"
   ]
  },
  {
   "cell_type": "markdown",
   "metadata": {
    "nbpresent": {
     "id": "aaf67a4c-160d-4f88-8007-2e2e4e40f2cf"
    }
   },
   "source": [
    "A bit different $R^2$ values but still good straight line fit. So  most likely the population is normal."
   ]
  },
  {
   "cell_type": "code",
   "execution_count": 41,
   "metadata": {
    "collapsed": false,
    "nbpresent": {
     "id": "d48168e6-53ce-4342-87d1-7b9d2b22ad30"
    }
   },
   "outputs": [
    {
     "data": {
      "text/html": [
       "<div>\n",
       "<table border=\"1\" class=\"dataframe\">\n",
       "  <thead>\n",
       "    <tr style=\"text-align: right;\">\n",
       "      <th></th>\n",
       "      <th></th>\n",
       "      <th>heart_rate</th>\n",
       "      <th>temperature</th>\n",
       "    </tr>\n",
       "    <tr>\n",
       "      <th>gender</th>\n",
       "      <th></th>\n",
       "      <th></th>\n",
       "      <th></th>\n",
       "    </tr>\n",
       "  </thead>\n",
       "  <tbody>\n",
       "    <tr>\n",
       "      <th rowspan=\"8\" valign=\"top\">F</th>\n",
       "      <th>count</th>\n",
       "      <td>65.000000</td>\n",
       "      <td>65.000000</td>\n",
       "    </tr>\n",
       "    <tr>\n",
       "      <th>mean</th>\n",
       "      <td>74.153846</td>\n",
       "      <td>98.393846</td>\n",
       "    </tr>\n",
       "    <tr>\n",
       "      <th>std</th>\n",
       "      <td>8.105227</td>\n",
       "      <td>0.743488</td>\n",
       "    </tr>\n",
       "    <tr>\n",
       "      <th>min</th>\n",
       "      <td>57.000000</td>\n",
       "      <td>96.400000</td>\n",
       "    </tr>\n",
       "    <tr>\n",
       "      <th>25%</th>\n",
       "      <td>68.000000</td>\n",
       "      <td>98.000000</td>\n",
       "    </tr>\n",
       "    <tr>\n",
       "      <th>50%</th>\n",
       "      <td>76.000000</td>\n",
       "      <td>98.400000</td>\n",
       "    </tr>\n",
       "    <tr>\n",
       "      <th>75%</th>\n",
       "      <td>80.000000</td>\n",
       "      <td>98.800000</td>\n",
       "    </tr>\n",
       "    <tr>\n",
       "      <th>max</th>\n",
       "      <td>89.000000</td>\n",
       "      <td>100.800000</td>\n",
       "    </tr>\n",
       "    <tr>\n",
       "      <th rowspan=\"8\" valign=\"top\">M</th>\n",
       "      <th>count</th>\n",
       "      <td>65.000000</td>\n",
       "      <td>65.000000</td>\n",
       "    </tr>\n",
       "    <tr>\n",
       "      <th>mean</th>\n",
       "      <td>73.369231</td>\n",
       "      <td>98.104615</td>\n",
       "    </tr>\n",
       "    <tr>\n",
       "      <th>std</th>\n",
       "      <td>5.875184</td>\n",
       "      <td>0.698756</td>\n",
       "    </tr>\n",
       "    <tr>\n",
       "      <th>min</th>\n",
       "      <td>58.000000</td>\n",
       "      <td>96.300000</td>\n",
       "    </tr>\n",
       "    <tr>\n",
       "      <th>25%</th>\n",
       "      <td>70.000000</td>\n",
       "      <td>97.600000</td>\n",
       "    </tr>\n",
       "    <tr>\n",
       "      <th>50%</th>\n",
       "      <td>73.000000</td>\n",
       "      <td>98.100000</td>\n",
       "    </tr>\n",
       "    <tr>\n",
       "      <th>75%</th>\n",
       "      <td>78.000000</td>\n",
       "      <td>98.600000</td>\n",
       "    </tr>\n",
       "    <tr>\n",
       "      <th>max</th>\n",
       "      <td>86.000000</td>\n",
       "      <td>99.500000</td>\n",
       "    </tr>\n",
       "  </tbody>\n",
       "</table>\n",
       "</div>"
      ],
      "text/plain": [
       "              heart_rate  temperature\n",
       "gender                               \n",
       "F      count   65.000000    65.000000\n",
       "       mean    74.153846    98.393846\n",
       "       std      8.105227     0.743488\n",
       "       min     57.000000    96.400000\n",
       "       25%     68.000000    98.000000\n",
       "       50%     76.000000    98.400000\n",
       "       75%     80.000000    98.800000\n",
       "       max     89.000000   100.800000\n",
       "M      count   65.000000    65.000000\n",
       "       mean    73.369231    98.104615\n",
       "       std      5.875184     0.698756\n",
       "       min     58.000000    96.300000\n",
       "       25%     70.000000    97.600000\n",
       "       50%     73.000000    98.100000\n",
       "       75%     78.000000    98.600000\n",
       "       max     86.000000    99.500000"
      ]
     },
     "execution_count": 41,
     "metadata": {},
     "output_type": "execute_result"
    }
   ],
   "source": [
    "dg = df.groupby('gender') \n",
    "dg.describe()# Just to see male and female features in a single table"
   ]
  },
  {
   "cell_type": "code",
   "execution_count": 42,
   "metadata": {
    "collapsed": false,
    "nbpresent": {
     "id": "4105dc73-65f3-48bb-9887-0f36c30f2239"
    }
   },
   "outputs": [
    {
     "data": {
      "text/html": [
       "<div>\n",
       "<table border=\"1\" class=\"dataframe\">\n",
       "  <thead>\n",
       "    <tr style=\"text-align: right;\">\n",
       "      <th></th>\n",
       "      <th>temperature</th>\n",
       "      <th>heart_rate</th>\n",
       "    </tr>\n",
       "    <tr>\n",
       "      <th>gender</th>\n",
       "      <th></th>\n",
       "      <th></th>\n",
       "    </tr>\n",
       "  </thead>\n",
       "  <tbody>\n",
       "    <tr>\n",
       "      <th>F</th>\n",
       "      <td>0.552774</td>\n",
       "      <td>65.694712</td>\n",
       "    </tr>\n",
       "    <tr>\n",
       "      <th>M</th>\n",
       "      <td>0.488260</td>\n",
       "      <td>34.517788</td>\n",
       "    </tr>\n",
       "  </tbody>\n",
       "</table>\n",
       "</div>"
      ],
      "text/plain": [
       "        temperature  heart_rate\n",
       "gender                         \n",
       "F          0.552774   65.694712\n",
       "M          0.488260   34.517788"
      ]
     },
     "execution_count": 42,
     "metadata": {},
     "output_type": "execute_result"
    }
   ],
   "source": [
    "dg.var()"
   ]
  },
  {
   "cell_type": "markdown",
   "metadata": {
    "nbpresent": {
     "id": "64cfdbd8-f0fa-4bfa-8701-4c9733dcbd99"
    }
   },
   "source": [
    "<li> Let's apply a two sample t-stat test where our null hypothesis is that there is no difference (in means) between two groups. The difference we see in this sample is purely by chance. So what's the probability that it actually happens by chance in the population or in other samples?"
   ]
  },
  {
   "cell_type": "code",
   "execution_count": 43,
   "metadata": {
    "collapsed": false,
    "nbpresent": {
     "id": "a021d0e9-46be-46ee-8d34-da0a11e8b3e3"
    }
   },
   "outputs": [
    {
     "data": {
      "text/plain": [
       "Ttest_indResult(statistic=-2.2854345381656112, pvalue=0.023938264182934196)"
      ]
     },
     "execution_count": 43,
     "metadata": {},
     "output_type": "execute_result"
    }
   ],
   "source": [
    "st.ttest_ind(df_m.temperature, df_f.temperature, axis=0, equal_var=False, nan_policy='propagate')"
   ]
  },
  {
   "cell_type": "code",
   "execution_count": 44,
   "metadata": {
    "collapsed": false,
    "nbpresent": {
     "id": "31b01e07-e31d-4d64-9f20-7cbce9cc8af7"
    }
   },
   "outputs": [
    {
     "name": "stdout",
     "output_type": "stream",
     "text": [
      "(-0.53964855913508725, -0.038812979326423636)\n"
     ]
    }
   ],
   "source": [
    "cm = sms.CompareMeans(sms.DescrStatsW(df_m.temperature), sms.DescrStatsW(df_f.temperature))\n",
    "print (cm.tconfint_diff(usevar='unequal'))"
   ]
  },
  {
   "cell_type": "code",
   "execution_count": 45,
   "metadata": {
    "collapsed": false,
    "nbpresent": {
     "id": "c0f25043-1d65-4671-883d-71ae74293749"
    }
   },
   "outputs": [
    {
     "data": {
      "text/plain": [
       "(-0.53727195415488294, -0.041189584306627919)"
      ]
     },
     "execution_count": 45,
     "metadata": {},
     "output_type": "execute_result"
    }
   ],
   "source": [
    "cm_z = sms.CompareMeans(sms.DescrStatsW(df_m.temperature), sms.DescrStatsW(df_f.temperature))\n",
    "cm_z.zconfint_diff(usevar = 'unequal')"
   ]
  },
  {
   "cell_type": "markdown",
   "metadata": {
    "nbpresent": {
     "id": "efc72656-fb4d-4b02-b57f-770a4cc488b1"
    }
   },
   "source": [
    "<li> p-value is low in all tests (~2-4%) - which is less the 5% and therefore we reject the null hypothesis. This means that the difference in temperature is statistically significant and we might see this in another sample or in general population. There is a certain probability that female temperature may be higher than the male. \n",
    "\n",
    "Let's look at the data in more *\"pythonic way\"* according to Allen Downey's lecture:\n",
    "The null hypothesis is that there is **NO** difference between the groups. "
   ]
  },
  {
   "cell_type": "code",
   "execution_count": 46,
   "metadata": {
    "collapsed": false,
    "nbpresent": {
     "id": "b61fba32-7c51-4fbb-b561-9b57d67796d5"
    }
   },
   "outputs": [],
   "source": [
    "m_t_mean = df_m.temperature.mean()\n",
    "m_t_std = df_m.temperature.std()\n",
    "f_t_mean = df_f.temperature.mean()\n",
    "f_t_std = df_f.temperature.std() # Mean and std dev. of male and female samples"
   ]
  },
  {
   "cell_type": "code",
   "execution_count": 47,
   "metadata": {
    "collapsed": false,
    "nbpresent": {
     "id": "860c9b5a-ebfb-4549-ad9b-adb3e33ab033"
    }
   },
   "outputs": [
    {
     "data": {
      "text/plain": [
       "(98.1046153846154, 98.39384615384613, 98.25371609638215)"
      ]
     },
     "execution_count": 47,
     "metadata": {},
     "output_type": "execute_result"
    }
   ],
   "source": [
    "thres = (m_t_mean*m_t_std + f_t_mean*f_t_std)/(m_t_std + f_t_std)\n",
    "m_t_mean, f_t_mean, thres"
   ]
  },
  {
   "cell_type": "code",
   "execution_count": 48,
   "metadata": {
    "collapsed": false,
    "nbpresent": {
     "id": "70a78a62-351a-4f79-a5db-dc94e81cd249"
    }
   },
   "outputs": [
    {
     "data": {
      "text/plain": [
       "28.0"
      ]
     },
     "execution_count": 48,
     "metadata": {},
     "output_type": "execute_result"
    }
   ],
   "source": [
    "mbt = float(sum(df_m.temperature.values > thres)) #male(temp) above threshold\n",
    "mbt"
   ]
  },
  {
   "cell_type": "code",
   "execution_count": 49,
   "metadata": {
    "collapsed": false,
    "nbpresent": {
     "id": "26fd9001-ff50-4b10-a4a4-c9181b574553"
    }
   },
   "outputs": [
    {
     "data": {
      "text/plain": [
       "27.0"
      ]
     },
     "execution_count": 49,
     "metadata": {},
     "output_type": "execute_result"
    }
   ],
   "source": [
    "fat = float(sum(df_f.temperature.values < thres)) #female(temp) below threshold\n",
    "fat"
   ]
  },
  {
   "cell_type": "code",
   "execution_count": 50,
   "metadata": {
    "collapsed": false,
    "nbpresent": {
     "id": "bad11b01-fa68-4b2a-93e2-4880f0da6f88"
    }
   },
   "outputs": [
    {
     "data": {
      "text/plain": [
       "(0.8461538461538463, 0.42307692307692313)"
      ]
     },
     "execution_count": 50,
     "metadata": {},
     "output_type": "execute_result"
    }
   ],
   "source": [
    "overlap = mbt/len(df_m) + fat/len(df_f)\n",
    "misclassification_rate = overlap/2\n",
    "overlap, misclassification_rate\n",
    "# very small overlap (so if we take the male sample temperature it would not be different than the fmale ones )"
   ]
  },
  {
   "cell_type": "markdown",
   "metadata": {
    "nbpresent": {
     "id": "90211fdb-3dff-4384-802e-681dda55a75c"
    }
   },
   "source": [
    "Misclassification rate is 0.42 - meaning that 42% of the time the temperature of a randomly chosen man will be higher than that of a woman. Note that this is a probability - and another way of saying this is that 580 out of 1000 instances, the temperature of a randomly chosen female will be higher. "
   ]
  },
  {
   "cell_type": "code",
   "execution_count": 52,
   "metadata": {
    "collapsed": false,
    "nbpresent": {
     "id": "89dc61b5-9801-4b12-b513-9a5092abd43c"
    }
   },
   "outputs": [
    {
     "data": {
      "text/plain": [
       "0.4307692307692308"
      ]
     },
     "execution_count": 52,
     "metadata": {},
     "output_type": "execute_result"
    }
   ],
   "source": [
    "# superiority for temp \n",
    "float(sum(x > y for x, y in zip(df_m.temperature.values, df_f.temperature.values)))/len(df_m)"
   ]
  },
  {
   "cell_type": "markdown",
   "metadata": {
    "nbpresent": {
     "id": "581552dd-6184-4904-b5b9-189fec2bf2a2"
    }
   },
   "source": [
    "### Cohen's D calculation:"
   ]
  },
  {
   "cell_type": "code",
   "execution_count": 53,
   "metadata": {
    "collapsed": true,
    "nbpresent": {
     "id": "8018d5f8-3555-4c81-84af-4e5b7384796c"
    }
   },
   "outputs": [],
   "source": [
    "def CohenEffectSize(group1, group2):\n",
    "    \"\"\"Compute Cohen's d.\n",
    "\n",
    "    group1: Series or NumPy array\n",
    "    group2: Series or NumPy array\n",
    "\n",
    "    returns: float\n",
    "    \"\"\"\n",
    "    diff = group1.mean() - group2.mean()\n",
    "\n",
    "    n1, n2 = len(group1), len(group2)\n",
    "    var1 = group1.var()\n",
    "    var2 = group2.var()\n",
    "\n",
    "    pooled_var = (n1 * var1 + n2 * var2) / (n1 + n2)\n",
    "    d = diff / np.sqrt(pooled_var)\n",
    "    return d"
   ]
  },
  {
   "cell_type": "code",
   "execution_count": 54,
   "metadata": {
    "collapsed": false,
    "nbpresent": {
     "id": "cb703c0f-76a4-45ca-a002-7523f83cc6fb"
    }
   },
   "outputs": [
    {
     "data": {
      "text/plain": [
       "-0.40089173785982207"
      ]
     },
     "execution_count": 54,
     "metadata": {},
     "output_type": "execute_result"
    }
   ],
   "source": [
    "CohenEffectSize(df_m.temperature, df_f.temperature)"
   ]
  },
  {
   "cell_type": "markdown",
   "metadata": {
    "nbpresent": {
     "id": "846e7c66-4f0a-40e0-9c00-39fb7d757e0e"
    }
   },
   "source": [
    "Let's see if I can simulate like earlier with one sample method: "
   ]
  },
  {
   "cell_type": "code",
   "execution_count": 55,
   "metadata": {
    "collapsed": true,
    "nbpresent": {
     "id": "44955dd5-e870-46e2-8c33-e824b9a81769"
    }
   },
   "outputs": [],
   "source": [
    "def TestStatistic(data):\n",
    "    group1, group2 = data\n",
    "    test_stat = abs(group1.mean() - group2.mean())\n",
    "    return test_stat"
   ]
  },
  {
   "cell_type": "code",
   "execution_count": 56,
   "metadata": {
    "collapsed": true,
    "nbpresent": {
     "id": "af30dfcb-00b2-4c1f-ba4a-4ce509e41fe3"
    }
   },
   "outputs": [],
   "source": [
    "group1 = df_m.temperature\n",
    "group2 = df_f.temperature"
   ]
  },
  {
   "cell_type": "code",
   "execution_count": 57,
   "metadata": {
    "collapsed": false,
    "nbpresent": {
     "id": "85742616-af0f-4362-aec9-fbca44fedb9c"
    }
   },
   "outputs": [
    {
     "data": {
      "text/plain": [
       "0.289230769230727"
      ]
     },
     "execution_count": 57,
     "metadata": {},
     "output_type": "execute_result"
    }
   ],
   "source": [
    "actual = TestStatistic((group1, group2))\n",
    "actual"
   ]
  },
  {
   "cell_type": "code",
   "execution_count": 58,
   "metadata": {
    "collapsed": true,
    "nbpresent": {
     "id": "48d1224f-d31b-406f-930d-8190afb01c15"
    }
   },
   "outputs": [],
   "source": [
    "n, m = len(group1), len(group2)\n",
    "pool = np.hstack((group1, group2))"
   ]
  },
  {
   "cell_type": "code",
   "execution_count": 59,
   "metadata": {
    "collapsed": true,
    "nbpresent": {
     "id": "74394efd-17fd-437e-bb3b-0a052fb1cf31"
    }
   },
   "outputs": [],
   "source": [
    "def RunModel():\n",
    "    np.random.shuffle(pool)\n",
    "    data = pool[:n], pool[n:]\n",
    "    return data"
   ]
  },
  {
   "cell_type": "code",
   "execution_count": 60,
   "metadata": {
    "collapsed": false,
    "nbpresent": {
     "id": "517e1204-c34b-4fca-b484-417b3867203f"
    }
   },
   "outputs": [
    {
     "data": {
      "text/plain": [
       "0.064615384615393623"
      ]
     },
     "execution_count": 60,
     "metadata": {},
     "output_type": "execute_result"
    }
   ],
   "source": [
    "TestStatistic(RunModel())"
   ]
  },
  {
   "cell_type": "code",
   "execution_count": 61,
   "metadata": {
    "collapsed": false,
    "nbpresent": {
     "id": "c6d20682-03be-4bd0-a095-2b0645e990b5"
    }
   },
   "outputs": [
    {
     "data": {
      "text/plain": [
       "(1000L,)"
      ]
     },
     "execution_count": 61,
     "metadata": {},
     "output_type": "execute_result"
    }
   ],
   "source": [
    "test_stats = np.array([TestStatistic(RunModel()) for i in range(1000)])\n",
    "test_stats.shape"
   ]
  },
  {
   "cell_type": "code",
   "execution_count": 62,
   "metadata": {
    "collapsed": false,
    "nbpresent": {
     "id": "861d14ae-5c0d-4b3c-8e97-8a922c267ab5"
    }
   },
   "outputs": [
    {
     "data": {
      "image/png": "[encoded data removed]",
      "text/plain": [
       "<matplotlib.figure.Figure at 0xdefcf28>"
      ]
     },
     "metadata": {},
     "output_type": "display_data"
    }
   ],
   "source": [
    "plt.vlines(actual, 0, 140, linewidth=3, color = 'red')\n",
    "sns.distplot(test_stats, kde = False)\n",
    "plt.xlabel('difference in means')\n",
    "plt.ylabel('count')\n",
    "None"
   ]
  },
  {
   "cell_type": "code",
   "execution_count": 63,
   "metadata": {
    "collapsed": false,
    "nbpresent": {
     "id": "db584d44-b518-42f9-87e3-704542b6b1c8"
    }
   },
   "outputs": [
    {
     "data": {
      "text/plain": [
       "0"
      ]
     },
     "execution_count": 63,
     "metadata": {},
     "output_type": "execute_result"
    }
   ],
   "source": [
    "pvalue = sum(test_stats >= actual) / len(test_stats)\n",
    "pvalue"
   ]
  },
  {
   "cell_type": "markdown",
   "metadata": {
    "nbpresent": {
     "id": "a06b4929-f06c-462c-8a75-fad251244f51"
    }
   },
   "source": [
    "pvalue < .001 means that it is statistically significant. Same conclusion was drawn before. "
   ]
  },
  {
   "cell_type": "markdown",
   "metadata": {
    "nbpresent": {
     "id": "54402224-2234-4aea-b3c4-48b5d1af960a"
    }
   },
   "source": [
    "### Step 3. Can we predict the heart rate given a body temperature and vice versa?"
   ]
  },
  {
   "cell_type": "code",
   "execution_count": 64,
   "metadata": {
    "collapsed": false,
    "nbpresent": {
     "id": "226c3c0e-0be0-4a46-bafc-fc79ad10f8de"
    }
   },
   "outputs": [
    {
     "data": {
      "text/plain": [
       "<seaborn.axisgrid.PairGrid at 0xdefcb00>"
      ]
     },
     "execution_count": 64,
     "metadata": {},
     "output_type": "execute_result"
    },
    {
     "data": {
      "image/png": "[encoded data removed]",
      "text/plain": [
       "<matplotlib.figure.Figure at 0xdefc2e8>"
      ]
     },
     "metadata": {},
     "output_type": "display_data"
    }
   ],
   "source": [
    "sns.pairplot(df, hue = 'gender')"
   ]
  },
  {
   "cell_type": "code",
   "execution_count": 65,
   "metadata": {
    "collapsed": false,
    "nbpresent": {
     "id": "055714d4-2a2b-4555-af4a-cf917450171c"
    }
   },
   "outputs": [
    {
     "data": {
      "text/html": [
       "<div>\n",
       "<table border=\"1\" class=\"dataframe\">\n",
       "  <thead>\n",
       "    <tr style=\"text-align: right;\">\n",
       "      <th></th>\n",
       "      <th>temperature</th>\n",
       "      <th>heart_rate</th>\n",
       "    </tr>\n",
       "  </thead>\n",
       "  <tbody>\n",
       "    <tr>\n",
       "      <th>temperature</th>\n",
       "      <td>1.000000</td>\n",
       "      <td>0.253656</td>\n",
       "    </tr>\n",
       "    <tr>\n",
       "      <th>heart_rate</th>\n",
       "      <td>0.253656</td>\n",
       "      <td>1.000000</td>\n",
       "    </tr>\n",
       "  </tbody>\n",
       "</table>\n",
       "</div>"
      ],
      "text/plain": [
       "             temperature  heart_rate\n",
       "temperature     1.000000    0.253656\n",
       "heart_rate      0.253656    1.000000"
      ]
     },
     "execution_count": 65,
     "metadata": {},
     "output_type": "execute_result"
    }
   ],
   "source": [
    "df.corr()"
   ]
  },
  {
   "cell_type": "code",
   "execution_count": 66,
   "metadata": {
    "collapsed": false,
    "nbpresent": {
     "id": "6d1d1f0a-affa-4e0a-976c-349823e00ca5"
    }
   },
   "outputs": [
    {
     "data": {
      "text/plain": [
       "<matplotlib.axes._subplots.AxesSubplot at 0xda0d6d8>"
      ]
     },
     "execution_count": 66,
     "metadata": {},
     "output_type": "execute_result"
    },
    {
     "data": {
      "image/png": "[encoded data removed]",
      "text/plain": [
       "<matplotlib.figure.Figure at 0xf0354e0>"
      ]
     },
     "metadata": {},
     "output_type": "display_data"
    }
   ],
   "source": [
    "sns.heatmap(df.corr(), vmax=.8, square=True)"
   ]
  },
  {
   "cell_type": "markdown",
   "metadata": {
    "nbpresent": {
     "id": "61843e96-e6cb-45bb-b68e-e89e84e12512"
    }
   },
   "source": [
    "Correlation between temperature and heart rate is not very strong (0.25). Prediction score will not be very good with simple linear regression. Let's try to fit it with regression models and try to predict some heart rate with a given (unknown) temperature."
   ]
  },
  {
   "cell_type": "code",
   "execution_count": 67,
   "metadata": {
    "collapsed": false,
    "nbpresent": {
     "id": "d38936a8-f8a0-4e51-94c2-84fd346c23c8"
    }
   },
   "outputs": [],
   "source": [
    "import statsmodels.formula.api as smf\n",
    "results = smf.ols('df.heart_rate ~ df.temperature', data=df).fit()"
   ]
  },
  {
   "cell_type": "code",
   "execution_count": 68,
   "metadata": {
    "collapsed": false,
    "nbpresent": {
     "id": "29b53797-e16f-4c6f-9e91-09c0d54f32ec"
    }
   },
   "outputs": [
    {
     "data": {
      "text/html": [
       "<table class=\"simpletable\">\n",
       "<caption>OLS Regression Results</caption>\n",
       "<tr>\n",
       "  <th>Dep. Variable:</th>      <td>df.heart_rate</td>  <th>  R-squared:         </th> <td>   0.064</td>\n",
       "</tr>\n",
       "<tr>\n",
       "  <th>Model:</th>                   <td>OLS</td>       <th>  Adj. R-squared:    </th> <td>   0.057</td>\n",
       "</tr>\n",
       "<tr>\n",
       "  <th>Method:</th>             <td>Least Squares</td>  <th>  F-statistic:       </th> <td>   8.802</td>\n",
       "</tr>\n",
       "<tr>\n",
       "  <th>Date:</th>             <td>Thu, 29 Dec 2016</td> <th>  Prob (F-statistic):</th>  <td>0.00359</td>\n",
       "</tr>\n",
       "<tr>\n",
       "  <th>Time:</th>                 <td>22:53:27</td>     <th>  Log-Likelihood:    </th> <td> -433.75</td>\n",
       "</tr>\n",
       "<tr>\n",
       "  <th>No. Observations:</th>      <td>   130</td>      <th>  AIC:               </th> <td>   871.5</td>\n",
       "</tr>\n",
       "<tr>\n",
       "  <th>Df Residuals:</th>          <td>   128</td>      <th>  BIC:               </th> <td>   877.2</td>\n",
       "</tr>\n",
       "<tr>\n",
       "  <th>Df Model:</th>              <td>     1</td>      <th>                     </th>     <td> </td>   \n",
       "</tr>\n",
       "<tr>\n",
       "  <th>Covariance Type:</th>      <td>nonrobust</td>    <th>                     </th>     <td> </td>   \n",
       "</tr>\n",
       "</table>\n",
       "<table class=\"simpletable\">\n",
       "<tr>\n",
       "         <td></td>           <th>coef</th>     <th>std err</th>      <th>t</th>      <th>P>|t|</th> <th>[95.0% Conf. Int.]</th> \n",
       "</tr>\n",
       "<tr>\n",
       "  <th>Intercept</th>      <td> -166.2847</td> <td>   80.912</td> <td>   -2.055</td> <td> 0.042</td> <td> -326.384    -6.186</td>\n",
       "</tr>\n",
       "<tr>\n",
       "  <th>df.temperature</th> <td>    2.4432</td> <td>    0.824</td> <td>    2.967</td> <td> 0.004</td> <td>    0.814     4.073</td>\n",
       "</tr>\n",
       "</table>\n",
       "<table class=\"simpletable\">\n",
       "<tr>\n",
       "  <th>Omnibus:</th>       <td> 1.549</td> <th>  Durbin-Watson:     </th> <td>   2.197</td>\n",
       "</tr>\n",
       "<tr>\n",
       "  <th>Prob(Omnibus):</th> <td> 0.461</td> <th>  Jarque-Bera (JB):  </th> <td>   1.541</td>\n",
       "</tr>\n",
       "<tr>\n",
       "  <th>Skew:</th>          <td>-0.183</td> <th>  Prob(JB):          </th> <td>   0.463</td>\n",
       "</tr>\n",
       "<tr>\n",
       "  <th>Kurtosis:</th>      <td> 2.613</td> <th>  Cond. No.          </th> <td>1.32e+04</td>\n",
       "</tr>\n",
       "</table>"
      ],
      "text/plain": [
       "<class 'statsmodels.iolib.summary.Summary'>\n",
       "\"\"\"\n",
       "                            OLS Regression Results                            \n",
       "==============================================================================\n",
       "Dep. Variable:          df.heart_rate   R-squared:                       0.064\n",
       "Model:                            OLS   Adj. R-squared:                  0.057\n",
       "Method:                 Least Squares   F-statistic:                     8.802\n",
       "Date:                Thu, 29 Dec 2016   Prob (F-statistic):            0.00359\n",
       "Time:                        22:53:27   Log-Likelihood:                -433.75\n",
       "No. Observations:                 130   AIC:                             871.5\n",
       "Df Residuals:                     128   BIC:                             877.2\n",
       "Df Model:                           1                                         \n",
       "Covariance Type:            nonrobust                                         \n",
       "==================================================================================\n",
       "                     coef    std err          t      P>|t|      [95.0% Conf. Int.]\n",
       "----------------------------------------------------------------------------------\n",
       "Intercept       -166.2847     80.912     -2.055      0.042      -326.384    -6.186\n",
       "df.temperature     2.4432      0.824      2.967      0.004         0.814     4.073\n",
       "==============================================================================\n",
       "Omnibus:                        1.549   Durbin-Watson:                   2.197\n",
       "Prob(Omnibus):                  0.461   Jarque-Bera (JB):                1.541\n",
       "Skew:                          -0.183   Prob(JB):                        0.463\n",
       "Kurtosis:                       2.613   Cond. No.                     1.32e+04\n",
       "==============================================================================\n",
       "\n",
       "Warnings:\n",
       "[1] Standard Errors assume that the covariance matrix of the errors is correctly specified.\n",
       "[2] The condition number is large, 1.32e+04. This might indicate that there are\n",
       "strong multicollinearity or other numerical problems.\n",
       "\"\"\""
      ]
     },
     "execution_count": 68,
     "metadata": {},
     "output_type": "execute_result"
    }
   ],
   "source": [
    "results.summary()"
   ]
  },
  {
   "cell_type": "code",
   "execution_count": 69,
   "metadata": {
    "collapsed": false,
    "nbpresent": {
     "id": "09403401-4653-47b9-b6f6-0e0979ee307d"
    }
   },
   "outputs": [
    {
     "data": {
      "text/plain": [
       "Intercept        -166.284719\n",
       "df.temperature      2.443238\n",
       "dtype: float64"
      ]
     },
     "execution_count": 69,
     "metadata": {},
     "output_type": "execute_result"
    }
   ],
   "source": [
    "results.params"
   ]
  },
  {
   "cell_type": "code",
   "execution_count": 70,
   "metadata": {
    "collapsed": false,
    "nbpresent": {
     "id": "ad6a92f4-dfb8-46a9-8126-105dd56c850c"
    }
   },
   "outputs": [
    {
     "data": {
      "text/plain": [
       "Intercept        96.306754\n",
       "df.heart_rate     0.026335\n",
       "dtype: float64"
      ]
     },
     "execution_count": 70,
     "metadata": {},
     "output_type": "execute_result"
    }
   ],
   "source": [
    "results = smf.ols('df.temperature ~ df.heart_rate', data=df).fit() # Temp as a function of heart rate.\n",
    "results.params"
   ]
  },
  {
   "cell_type": "code",
   "execution_count": 71,
   "metadata": {
    "collapsed": false,
    "nbpresent": {
     "id": "4e487cad-fa23-4805-b263-3fe4ed22479d"
    }
   },
   "outputs": [
    {
     "data": {
      "text/plain": [
       "<matplotlib.text.Text at 0xf441048>"
      ]
     },
     "execution_count": 71,
     "metadata": {},
     "output_type": "execute_result"
    },
    {
     "data": {
      "image/png": "[encoded data removed]",
      "text/plain": [
       "<matplotlib.figure.Figure at 0xf41f4a8>"
      ]
     },
     "metadata": {},
     "output_type": "display_data"
    }
   ],
   "source": [
    "f = plt.figure()\n",
    "ax = f.add_subplot(111)\n",
    "sns.regplot(df.temperature, df.heart_rate, data=df);\n",
    "ax.text(0.2, 0.9,'$y = 2.44x - 166.3$', ha='center', va='center', transform=ax.transAxes)\n",
    "plt.xlabel('Temperature(F)')\n",
    "plt.ylabel('Heart Rate (B/min)')"
   ]
  },
  {
   "cell_type": "code",
   "execution_count": 72,
   "metadata": {
    "collapsed": false,
    "nbpresent": {
     "id": "3e0bb58c-5119-41e8-9fb7-62c3ef520052"
    }
   },
   "outputs": [
    {
     "data": {
      "text/plain": [
       "75.25999999999999"
      ]
     },
     "execution_count": 72,
     "metadata": {},
     "output_type": "execute_result"
    }
   ],
   "source": [
    "2.44*99 -166.3 # checking one sample heart rate given a tempr 99F."
   ]
  },
  {
   "cell_type": "markdown",
   "metadata": {
    "nbpresent": {
     "id": "86371aba-9a82-4bb7-80fc-e5744a74bdeb"
    }
   },
   "source": [
    "We can also do a regression analysis."
   ]
  },
  {
   "cell_type": "code",
   "execution_count": 73,
   "metadata": {
    "collapsed": true,
    "nbpresent": {
     "id": "f747a408-247f-4a0d-a3cc-09fcbb048f0d"
    }
   },
   "outputs": [],
   "source": [
    "from sklearn import linear_model \n",
    "from sklearn.model_selection import train_test_split"
   ]
  },
  {
   "cell_type": "code",
   "execution_count": 74,
   "metadata": {
    "collapsed": false,
    "nbpresent": {
     "id": "cac27b87-a573-4b65-82e3-fbe01598ac9e"
    }
   },
   "outputs": [
    {
     "data": {
      "text/html": [
       "<div>\n",
       "<table border=\"1\" class=\"dataframe\">\n",
       "  <thead>\n",
       "    <tr style=\"text-align: right;\">\n",
       "      <th></th>\n",
       "      <th>temperature</th>\n",
       "      <th>heart_rate</th>\n",
       "    </tr>\n",
       "  </thead>\n",
       "  <tbody>\n",
       "    <tr>\n",
       "      <th>0</th>\n",
       "      <td>99.3</td>\n",
       "      <td>68.0</td>\n",
       "    </tr>\n",
       "    <tr>\n",
       "      <th>1</th>\n",
       "      <td>98.4</td>\n",
       "      <td>81.0</td>\n",
       "    </tr>\n",
       "    <tr>\n",
       "      <th>2</th>\n",
       "      <td>97.8</td>\n",
       "      <td>73.0</td>\n",
       "    </tr>\n",
       "    <tr>\n",
       "      <th>3</th>\n",
       "      <td>99.2</td>\n",
       "      <td>66.0</td>\n",
       "    </tr>\n",
       "    <tr>\n",
       "      <th>4</th>\n",
       "      <td>98.0</td>\n",
       "      <td>73.0</td>\n",
       "    </tr>\n",
       "  </tbody>\n",
       "</table>\n",
       "</div>"
      ],
      "text/plain": [
       "   temperature  heart_rate\n",
       "0         99.3        68.0\n",
       "1         98.4        81.0\n",
       "2         97.8        73.0\n",
       "3         99.2        66.0\n",
       "4         98.0        73.0"
      ]
     },
     "execution_count": 74,
     "metadata": {},
     "output_type": "execute_result"
    }
   ],
   "source": [
    "df1 = df [['temperature', 'heart_rate']]\n",
    "df1.head()"
   ]
  },
  {
   "cell_type": "code",
   "execution_count": 75,
   "metadata": {
    "collapsed": false,
    "nbpresent": {
     "id": "e6c674ad-cf24-4cf1-9bd8-6478d8320334"
    }
   },
   "outputs": [
    {
     "data": {
      "text/plain": [
       "((87L,), (87L,))"
      ]
     },
     "execution_count": 75,
     "metadata": {},
     "output_type": "execute_result"
    }
   ],
   "source": [
    "X_train, X_test, y_train, y_test = train_test_split(df1.temperature, df1.heart_rate, test_size=0.33, random_state=42)\n",
    "X_train.shape, y_train.shape"
   ]
  },
  {
   "cell_type": "code",
   "execution_count": 76,
   "metadata": {
    "collapsed": false,
    "nbpresent": {
     "id": "3ad567a8-ace7-4560-a231-cd64c7c8a6c2"
    }
   },
   "outputs": [],
   "source": [
    "X_train, y_train, X_test, y_test = X_train.reshape(-1, 1), y_train.reshape(-1, 1), X_test.reshape(-1, 1), y_test.reshape(-1, 1)"
   ]
  },
  {
   "cell_type": "code",
   "execution_count": 77,
   "metadata": {
    "collapsed": false,
    "nbpresent": {
     "id": "4111d686-a2e9-4ee0-b19d-adff189d81fd"
    }
   },
   "outputs": [
    {
     "data": {
      "text/plain": [
       "0.072230799762748488"
      ]
     },
     "execution_count": 77,
     "metadata": {},
     "output_type": "execute_result"
    }
   ],
   "source": [
    "regr = linear_model.LinearRegression()\n",
    "regr.fit(X_train, y_train)\n",
    "regr.score(X_test, y_test)"
   ]
  },
  {
   "cell_type": "markdown",
   "metadata": {
    "nbpresent": {
     "id": "2d720ba7-1016-4bc0-baf0-40f36c58623e"
    }
   },
   "source": [
    "Score is 72% - which is not good but understandble with a 0.25 correlation between temperature and heart rate."
   ]
  },
  {
   "cell_type": "code",
   "execution_count": 78,
   "metadata": {
    "collapsed": false,
    "nbpresent": {
     "id": "974cf5b2-dd29-4b7e-8e48-f92e9a6eabe4"
    }
   },
   "outputs": [
    {
     "data": {
      "text/plain": [
       "42.529863392163023"
      ]
     },
     "execution_count": 78,
     "metadata": {},
     "output_type": "execute_result"
    }
   ],
   "source": [
    "np.mean((regr.predict(X_test) - y_test) ** 2)"
   ]
  },
  {
   "cell_type": "code",
   "execution_count": 79,
   "metadata": {
    "collapsed": false,
    "nbpresent": {
     "id": "b7046e2e-a706-4b93-9e56-ddf679063511"
    }
   },
   "outputs": [
    {
     "data": {
      "text/plain": [
       "array([-154.68974368])"
      ]
     },
     "execution_count": 79,
     "metadata": {},
     "output_type": "execute_result"
    }
   ],
   "source": [
    "regr.intercept_"
   ]
  },
  {
   "cell_type": "code",
   "execution_count": 80,
   "metadata": {
    "collapsed": false,
    "nbpresent": {
     "id": "c64b720d-5d8d-42ea-beab-2c533b27cbc2"
    }
   },
   "outputs": [
    {
     "data": {
      "text/plain": [
       "array([[ 2.32774742]])"
      ]
     },
     "execution_count": 80,
     "metadata": {},
     "output_type": "execute_result"
    }
   ],
   "source": [
    "regr.coef_"
   ]
  },
  {
   "cell_type": "code",
   "execution_count": 81,
   "metadata": {
    "collapsed": false,
    "nbpresent": {
     "id": "fa6b35a8-f02d-4565-95a3-c8b303887fce"
    }
   },
   "outputs": [
    {
     "data": {
      "text/plain": [
       "<matplotlib.text.Text at 0xe946b00>"
      ]
     },
     "execution_count": 81,
     "metadata": {},
     "output_type": "execute_result"
    },
    {
     "data": {
      "image/png": "[encoded data removed]",
      "text/plain": [
       "<matplotlib.figure.Figure at 0xe92ff60>"
      ]
     },
     "metadata": {},
     "output_type": "display_data"
    }
   ],
   "source": [
    "f = plt.figure()\n",
    "ax = f.add_subplot(111)\n",
    "plt.scatter(X_test, y_test,  color='blue', alpha = 0.7)\n",
    "plt.plot(X_test, regr.predict(X_test), color='blue', linewidth=2, alpha = 0.7)\n",
    "ax.text(0.2, 0.9,'$y = 2.32x - 154.7$', ha='center', va='center', transform=ax.transAxes)\n",
    "plt.xlim([96.5, 100.0])\n",
    "plt.xlabel('Temperature(F)')\n",
    "plt.ylabel('Heart Rate (B/min)')"
   ]
  },
  {
   "cell_type": "markdown",
   "metadata": {
    "nbpresent": {
     "id": "ead1a75e-3495-46cd-a5bb-57050087dbe3"
    }
   },
   "source": [
    "### Summary\n",
    "\n",
    "<li> The mean normal body temperature was held to be 37$^{\\circ}$C or 98.6$^{\\circ}$F for more than 120 years since it was first conceptualized and reported by Carl Wunderlich in a famous 1868 book. We wanted to answer the question if this value is statistically correct or not. We looked at the dataset which has a total of 130 measurements of body temperatures and heart rates, which were taken from 65 randomly chosen male and female. We can say that the observations are independent because the one temperature (or heart rate) does not influence the outcome of the other. \n",
    "\n",
    "<p><li> We found that the sample mean and standard deviation of human body temperature to be 98.25 and 0.73, respectively. We plotted a histogram and found that it has an approximately normal distribution. We used a kernel density distribution function estimator, a probability plot and different normality tests to confirm that the sample distribution is roughly normal. We then set up our null hypothesis assuming that the mean population temperature to be 98.6$^{\\circ}$F and did a one sample t-test. Since the sample is large enough (> 30) and distribution is normal, we also did a z-test. Both these tests produced roughly similar results with p-value < 0.001, which suggest that it is unlikely that the mean human body temperature is 98.6$^{\\circ}$, contradictory to popular belief!!\n",
    "\n",
    "<p><li> We then set up the experiment with an estimated mean of 98.25 (which is the sample mean) and found a p-value >> 10%. This suggests that we *cannot* reject the hypothesis that the mean human body temperature is 98.25 $^{\\circ}$F. We found a range between 98.12 & 99.37 at 95% confidence level. Even at the 99% confidence level the temperature range (98.01 - 98.42) does not include 98.6$^{\\circ}$F. We conclude that the normal human temperature lies between (98.01 - 98.42)$^{\\circ}$F at 99% confidence level and it is definitely not a single value (98.6$^{\\circ}$F). \n",
    "\n",
    "<p><li> The second question to answer was if the average female body temperature is higher than that of a randomly chosen man? We found that the mean female temperature is indeed higher (by .3$^{\\circ}$F). We set up a null hypothesis that there is no difference in the mean temperature between male and female, and carried out a t-test. We found a p-value < 5% suggesting that the result is statistically significant and it is likely that we would see higher female temperature in other sample or in general. We did a misclassification rate and a Cohen's d calculation to quantify this effect size and found that 580 out of 1000 times we would see a higher female temperature.\n",
    "\n",
    "<p><li> Another interesting question was if we see an elevated heart rate with a higher body temperature. We found that there is a weak correlation (0.25 to be exact) between temperature and heart rate. We did two linear regression fits - one with all the samples together using Least Square (OLS) fit model and another with sklearn's linear regression where the data was split into training and testing sets. OLS provided a model fit with '$y = 2.44x - 166.3$', while linear regression predicts '$y = 2.32x - 154.7$'. The linear regression model provided an accuracy score of 72%."
   ]
  },
  {
   "cell_type": "code",
   "execution_count": null,
   "metadata": {
    "collapsed": true,
    "nbpresent": {
     "id": "6c7d2025-47b7-45b5-ae1b-c5c82ebf8763"
    }
   },
   "outputs": [],
   "source": []
  }
 ],
 "metadata": {
  "anaconda-cloud": {},
  "kernelspec": {
   "display_name": "Python [conda root]",
   "language": "python",
   "name": "conda-root-py"
  },
  "language_info": {
   "codemirror_mode": {
    "name": "ipython",
    "version": 2
   },
   "file_extension": ".py",
   "mimetype": "text/x-python",
   "name": "python",
   "nbconvert_exporter": "python",
   "pygments_lexer": "ipython2",
   "version": "2.7.12"
  },
  "nbpresent": {
   "slides": {
    "00a62432-f10c-4412-8bcd-e026e10ebc8d": {
     "id": "00a62432-f10c-4412-8bcd-e026e10ebc8d",
     "prev": "b3d66a34-f171-499b-83eb-da274644dc1c",
     "regions": {
      "b8a5bf4e-a6ed-42ce-ad12-f7f1ef285dba": {
       "attrs": {
        "height": 0.8,
        "width": 0.8,
        "x": 0.1,
        "y": 0.1
       },
       "content": {
        "cell": "26fd9001-ff50-4b10-a4a4-c9181b574553",
        "part": "whole"
       },
       "id": "b8a5bf4e-a6ed-42ce-ad12-f7f1ef285dba"
      }
     }
    },
    "03af466d-1d66-4822-b9a1-d993738049ff": {
     "id": "03af466d-1d66-4822-b9a1-d993738049ff",
     "prev": "2ab1a022-9c2d-4dea-89bf-f5f70cbab299",
     "regions": {
      "2b155faa-a60a-4871-8a4e-b2e65a173144": {
       "attrs": {
        "height": 0.8,
        "width": 0.8,
        "x": 0.1,
        "y": 0.1
       },
       "content": {
        "cell": "c64b720d-5d8d-42ea-beab-2c533b27cbc2",
        "part": "whole"
       },
       "id": "2b155faa-a60a-4871-8a4e-b2e65a173144"
      }
     }
    },
    "03b85a80-7b64-49e8-840d-5a82b2aa2a96": {
     "id": "03b85a80-7b64-49e8-840d-5a82b2aa2a96",
     "prev": "a32e2467-a6ff-4c23-b58a-2b3c54215a29",
     "regions": {
      "87083625-81ac-4e09-8136-67f7e9313319": {
       "attrs": {
        "height": 0.8,
        "width": 0.8,
        "x": 0.1,
        "y": 0.1
       },
       "content": {
        "cell": "76f7276b-c053-477e-806e-bfb2143bae59",
        "part": "whole"
       },
       "id": "87083625-81ac-4e09-8136-67f7e9313319"
      }
     }
    },
    "051ec760-8a73-4929-8e20-740f84d30017": {
     "id": "051ec760-8a73-4929-8e20-740f84d30017",
     "prev": "299a22a9-4cac-433c-8798-0000dae2d247",
     "regions": {
      "21881592-7263-43b1-8861-ea03b1a94583": {
       "attrs": {
        "height": 0.8,
        "width": 0.8,
        "x": 0.1,
        "y": 0.1
       },
       "content": {
        "cell": "29b53797-e16f-4c6f-9e91-09c0d54f32ec",
        "part": "whole"
       },
       "id": "21881592-7263-43b1-8861-ea03b1a94583"
      }
     }
    },
    "0889694f-53dd-45b1-b152-223c233bedcd": {
     "id": "0889694f-53dd-45b1-b152-223c233bedcd",
     "prev": "cd2cab6c-9180-4bc0-a292-01e6e1b0d670",
     "regions": {
      "d8546ac9-2c6b-4b12-a23a-46a38d7a3770": {
       "attrs": {
        "height": 0.8,
        "width": 0.8,
        "x": 0.1,
        "y": 0.1
       },
       "content": {
        "cell": "82a2c39b-921b-47f5-82ca-70664f18e8cc",
        "part": "whole"
       },
       "id": "d8546ac9-2c6b-4b12-a23a-46a38d7a3770"
      }
     }
    },
    "0b4f9572-0065-4b2a-bf73-23d792cc5bcf": {
     "id": "0b4f9572-0065-4b2a-bf73-23d792cc5bcf",
     "prev": "3a069eb7-c8a5-4fb3-88eb-01910e68d30b",
     "regions": {
      "8d9da0a5-0932-4aea-8f09-6e4dddf58a8f": {
       "attrs": {
        "height": 0.8,
        "width": 0.8,
        "x": 0.1,
        "y": 0.1
       },
       "content": {
        "cell": "8e837a90-bf1d-4a9b-96f5-3140221b8632",
        "part": "whole"
       },
       "id": "8d9da0a5-0932-4aea-8f09-6e4dddf58a8f"
      }
     }
    },
    "14c4a7e9-04a0-40a3-b312-8a3104bda1df": {
     "id": "14c4a7e9-04a0-40a3-b312-8a3104bda1df",
     "prev": "d3151089-fa5b-4556-b719-28a4d75a3543",
     "regions": {
      "87a1121c-aee8-49b6-9977-7be938bd29e0": {
       "attrs": {
        "height": 0.8,
        "width": 0.8,
        "x": 0.1,
        "y": 0.1
       },
       "content": {
        "cell": "cb703c0f-76a4-45ca-a002-7523f83cc6fb",
        "part": "whole"
       },
       "id": "87a1121c-aee8-49b6-9977-7be938bd29e0"
      }
     }
    },
    "195f3d30-4a84-4e6b-8ed2-e6f5b5914dbe": {
     "id": "195f3d30-4a84-4e6b-8ed2-e6f5b5914dbe",
     "prev": "f769def6-8e3f-4422-a1ba-eb6bfcc0f577",
     "regions": {
      "f24df763-6d74-4fe8-b4e6-639c53e158ff": {
       "attrs": {
        "height": 0.8,
        "width": 0.8,
        "x": 0.1,
        "y": 0.1
       },
       "content": {
        "cell": "db584d44-b518-42f9-87e3-704542b6b1c8",
        "part": "whole"
       },
       "id": "f24df763-6d74-4fe8-b4e6-639c53e158ff"
      }
     }
    },
    "19d56d76-f702-4107-872e-26523de14be5": {
     "id": "19d56d76-f702-4107-872e-26523de14be5",
     "prev": "209927fa-d970-4882-85c6-357a2aae3874",
     "regions": {
      "629c28a6-b0d1-403d-ac8a-4d0eda2550bc": {
       "attrs": {
        "height": 0.8,
        "width": 0.8,
        "x": 0.1,
        "y": 0.1
       },
       "content": {
        "cell": "46a35205-6764-44f1-a57a-417d958c4010",
        "part": "whole"
       },
       "id": "629c28a6-b0d1-403d-ac8a-4d0eda2550bc"
      }
     }
    },
    "1bf4887c-5c5a-436d-b782-49947fe8bba2": {
     "id": "1bf4887c-5c5a-436d-b782-49947fe8bba2",
     "prev": "2affa880-fc6a-4e77-9f6e-0d08f5754ac6",
     "regions": {
      "c6aabac1-569a-4260-89d3-9c0172449089": {
       "attrs": {
        "height": 0.8,
        "width": 0.8,
        "x": 0.1,
        "y": 0.1
       },
       "content": {
        "cell": "974cf5b2-dd29-4b7e-8e48-f92e9a6eabe4",
        "part": "whole"
       },
       "id": "c6aabac1-569a-4260-89d3-9c0172449089"
      }
     }
    },
    "1e6f56da-81c5-4b5c-aca9-57212d6ab303": {
     "id": "1e6f56da-81c5-4b5c-aca9-57212d6ab303",
     "prev": "e2a210f0-a275-4049-b141-731c2411d673",
     "regions": {
      "e24e2738-57ee-462e-a5e1-20918d0a775c": {
       "attrs": {
        "height": 0.8,
        "width": 0.8,
        "x": 0.1,
        "y": 0.1
       },
       "content": {
        "cell": "abb0bb4f-2272-4538-b23e-034b326ce158",
        "part": "whole"
       },
       "id": "e24e2738-57ee-462e-a5e1-20918d0a775c"
      }
     }
    },
    "209927fa-d970-4882-85c6-357a2aae3874": {
     "id": "209927fa-d970-4882-85c6-357a2aae3874",
     "prev": "0889694f-53dd-45b1-b152-223c233bedcd",
     "regions": {
      "9abfedf8-2669-4e3f-9407-ce976c3a9bbf": {
       "attrs": {
        "height": 0.8,
        "width": 0.8,
        "x": 0.1,
        "y": 0.1
       },
       "content": {
        "cell": "d79fab11-f159-4aea-8bd2-42240467dd9c",
        "part": "whole"
       },
       "id": "9abfedf8-2669-4e3f-9407-ce976c3a9bbf"
      }
     }
    },
    "209cf015-8f50-48c9-8af4-99e8b39560b9": {
     "id": "209cf015-8f50-48c9-8af4-99e8b39560b9",
     "prev": "3ad7e1a7-9048-440b-bfe8-9e16ab5de217",
     "regions": {
      "6e398ed1-4abc-40e8-9868-2abe88df3630": {
       "attrs": {
        "height": 0.8,
        "width": 0.8,
        "x": 0.1,
        "y": 0.1
       },
       "content": {
        "cell": "4105dc73-65f3-48bb-9887-0f36c30f2239",
        "part": "whole"
       },
       "id": "6e398ed1-4abc-40e8-9868-2abe88df3630"
      }
     }
    },
    "217a1918-1a3f-4bca-a296-618853da7055": {
     "id": "217a1918-1a3f-4bca-a296-618853da7055",
     "prev": "686191d3-eb8f-4e9d-8bb1-2c3dbde0e7f5",
     "regions": {
      "c3682c73-8678-4e08-afbe-ed71c7c2004b": {
       "attrs": {
        "height": 0.8,
        "width": 0.8,
        "x": 0.1,
        "y": 0.1
       },
       "content": {
        "cell": "f14ccbc6-7fc2-44a8-8f38-b0ced6cdb586",
        "part": "whole"
       },
       "id": "c3682c73-8678-4e08-afbe-ed71c7c2004b"
      }
     }
    },
    "2247e14c-26f7-47a5-9b55-e6b6841a8858": {
     "id": "2247e14c-26f7-47a5-9b55-e6b6841a8858",
     "prev": null,
     "regions": {
      "034b5429-b8f3-4b32-be87-fe2d7d8cfa2c": {
       "attrs": {
        "height": 0.8,
        "width": 0.8,
        "x": 0.1,
        "y": 0.1
       },
       "content": {
        "cell": "edbcc07b-a77e-410d-91bc-1258bdb49bce",
        "part": "whole"
       },
       "id": "034b5429-b8f3-4b32-be87-fe2d7d8cfa2c"
      }
     }
    },
    "226f7efc-af60-4eea-aa43-78d03a2dc895": {
     "id": "226f7efc-af60-4eea-aa43-78d03a2dc895",
     "prev": "51920cb0-612d-43c3-950c-0e2fb85bc7ed",
     "regions": {
      "cdc3d31e-de90-4301-8227-08a3b5dcf54e": {
       "attrs": {
        "height": 0.8,
        "width": 0.8,
        "x": 0.1,
        "y": 0.1
       },
       "content": {
        "cell": "62877486-cfb0-451c-89d8-473489a2fe06",
        "part": "whole"
       },
       "id": "cdc3d31e-de90-4301-8227-08a3b5dcf54e"
      }
     }
    },
    "23336f4a-8dec-429d-8e0b-aa11e461611d": {
     "id": "23336f4a-8dec-429d-8e0b-aa11e461611d",
     "prev": "341a5a16-4d40-42ad-9d54-3d2f7ab47ca0",
     "regions": {
      "32c2d10e-1cc7-4cbb-a498-517c62d2c1d0": {
       "attrs": {
        "height": 0.8,
        "width": 0.8,
        "x": 0.1,
        "y": 0.1
       },
       "content": {
        "cell": "26d8dea5-5856-4570-8913-87a2b01ce68a",
        "part": "whole"
       },
       "id": "32c2d10e-1cc7-4cbb-a498-517c62d2c1d0"
      }
     }
    },
    "2476c57b-4238-4bd8-a776-31ffe1cb8070": {
     "id": "2476c57b-4238-4bd8-a776-31ffe1cb8070",
     "prev": "03b85a80-7b64-49e8-840d-5a82b2aa2a96",
     "regions": {
      "7ba26c46-9c14-4567-b35d-1a9b0ede7f93": {
       "attrs": {
        "height": 0.8,
        "width": 0.8,
        "x": 0.1,
        "y": 0.1
       },
       "content": {
        "cell": "a6272a27-84e1-4925-8659-834ac473daf1",
        "part": "whole"
       },
       "id": "7ba26c46-9c14-4567-b35d-1a9b0ede7f93"
      }
     }
    },
    "24c3a96e-7439-4265-aea1-51ccab295280": {
     "id": "24c3a96e-7439-4265-aea1-51ccab295280",
     "prev": "37457a24-8ebd-40bb-a91f-5c2fee953660",
     "regions": {
      "a60fc596-27ec-44ad-9ea8-b54fa03be1d2": {
       "attrs": {
        "height": 0.8,
        "width": 0.8,
        "x": 0.1,
        "y": 0.1
       },
       "content": {
        "cell": "89dc61b5-9801-4b12-b513-9a5092abd43c",
        "part": "whole"
       },
       "id": "a60fc596-27ec-44ad-9ea8-b54fa03be1d2"
      }
     }
    },
    "253c5573-e957-4c2f-b20f-e0834e4a962f": {
     "id": "253c5573-e957-4c2f-b20f-e0834e4a962f",
     "prev": "a16a8064-c4c8-4ab0-a80e-ed58ad7bb9c3",
     "regions": {
      "f8497636-68ce-4a79-934c-89741f385991": {
       "attrs": {
        "height": 0.8,
        "width": 0.8,
        "x": 0.1,
        "y": 0.1
       },
       "content": {
        "cell": "74394efd-17fd-437e-bb3b-0a052fb1cf31",
        "part": "whole"
       },
       "id": "f8497636-68ce-4a79-934c-89741f385991"
      }
     }
    },
    "258e66e9-7e3c-45b9-ba98-44360b7c438b": {
     "id": "258e66e9-7e3c-45b9-ba98-44360b7c438b",
     "prev": "a393f077-a800-4fe2-a0c3-f49bc1029232",
     "regions": {
      "0f21dc22-b156-4f17-9ee9-b7bca3ce25e1": {
       "attrs": {
        "height": 0.8,
        "width": 0.8,
        "x": 0.1,
        "y": 0.1
       },
       "content": {
        "cell": "ae3f36e0-7f65-498a-a27f-7347eaa2c4a5",
        "part": "whole"
       },
       "id": "0f21dc22-b156-4f17-9ee9-b7bca3ce25e1"
      }
     }
    },
    "26819607-9241-43e1-adb1-e2fcaeac5eea": {
     "id": "26819607-9241-43e1-adb1-e2fcaeac5eea",
     "prev": "2247e14c-26f7-47a5-9b55-e6b6841a8858",
     "regions": {
      "29404a6a-71d3-440e-b472-9e4661aedb45": {
       "attrs": {
        "height": 0.8,
        "width": 0.8,
        "x": 0.1,
        "y": 0.1
       },
       "content": {
        "cell": "8fcc0355-58ab-4c99-b606-e857a7ed8bf1",
        "part": "whole"
       },
       "id": "29404a6a-71d3-440e-b472-9e4661aedb45"
      }
     }
    },
    "28ace467-d3c4-40d4-9fc6-e1708a46b6da": {
     "id": "28ace467-d3c4-40d4-9fc6-e1708a46b6da",
     "prev": "23336f4a-8dec-429d-8e0b-aa11e461611d",
     "regions": {
      "3d082476-5849-4c3a-b365-db13155cc70e": {
       "attrs": {
        "height": 0.8,
        "width": 0.8,
        "x": 0.1,
        "y": 0.1
       },
       "content": {
        "cell": "acec6e5a-a4fb-47eb-90f2-3a5eaf341efb",
        "part": "whole"
       },
       "id": "3d082476-5849-4c3a-b365-db13155cc70e"
      }
     }
    },
    "299a22a9-4cac-433c-8798-0000dae2d247": {
     "id": "299a22a9-4cac-433c-8798-0000dae2d247",
     "prev": "532738ba-272b-4d2e-b952-5bb67e411a20",
     "regions": {
      "193715d4-56d1-46e1-9bdb-176ed0ff26af": {
       "attrs": {
        "height": 0.8,
        "width": 0.8,
        "x": 0.1,
        "y": 0.1
       },
       "content": {
        "cell": "d38936a8-f8a0-4e51-94c2-84fd346c23c8",
        "part": "whole"
       },
       "id": "193715d4-56d1-46e1-9bdb-176ed0ff26af"
      }
     }
    },
    "2ab1a022-9c2d-4dea-89bf-f5f70cbab299": {
     "id": "2ab1a022-9c2d-4dea-89bf-f5f70cbab299",
     "prev": "1bf4887c-5c5a-436d-b782-49947fe8bba2",
     "regions": {
      "404e7d65-8261-4992-a2d5-39475e922270": {
       "attrs": {
        "height": 0.8,
        "width": 0.8,
        "x": 0.1,
        "y": 0.1
       },
       "content": {
        "cell": "b7046e2e-a706-4b93-9e56-ddf679063511",
        "part": "whole"
       },
       "id": "404e7d65-8261-4992-a2d5-39475e922270"
      }
     }
    },
    "2affa880-fc6a-4e77-9f6e-0d08f5754ac6": {
     "id": "2affa880-fc6a-4e77-9f6e-0d08f5754ac6",
     "prev": "a23cf1a1-1067-4e65-8893-ac1bc2924010",
     "regions": {
      "9ee64bf2-e294-46ed-b128-fa93acc4d23f": {
       "attrs": {
        "height": 0.8,
        "width": 0.8,
        "x": 0.1,
        "y": 0.1
       },
       "content": {
        "cell": "2d720ba7-1016-4bc0-baf0-40f36c58623e",
        "part": "whole"
       },
       "id": "9ee64bf2-e294-46ed-b128-fa93acc4d23f"
      }
     }
    },
    "2ba44e34-2ecb-42c7-9ef2-524fac977517": {
     "id": "2ba44e34-2ecb-42c7-9ef2-524fac977517",
     "prev": "4cb4cad9-56ff-4799-9a83-74e070c4e7dc",
     "regions": {
      "80387abf-e7f6-4447-8002-cf039262442a": {
       "attrs": {
        "height": 0.8,
        "width": 0.8,
        "x": 0.1,
        "y": 0.1
       },
       "content": {
        "cell": "226c3c0e-0be0-4a46-bafc-fc79ad10f8de",
        "part": "whole"
       },
       "id": "80387abf-e7f6-4447-8002-cf039262442a"
      }
     }
    },
    "2d780005-4af1-4fd7-a519-3f7c79bc5775": {
     "id": "2d780005-4af1-4fd7-a519-3f7c79bc5775",
     "prev": "209cf015-8f50-48c9-8af4-99e8b39560b9",
     "regions": {
      "4ba3fa47-f5f9-4f15-8292-751b8c0d3b84": {
       "attrs": {
        "height": 0.8,
        "width": 0.8,
        "x": 0.1,
        "y": 0.1
       },
       "content": {
        "cell": "64cfdbd8-f0fa-4bfa-8701-4c9733dcbd99",
        "part": "whole"
       },
       "id": "4ba3fa47-f5f9-4f15-8292-751b8c0d3b84"
      }
     }
    },
    "2eecff33-5d18-4c9b-b90e-a2d794c42b60": {
     "id": "2eecff33-5d18-4c9b-b90e-a2d794c42b60",
     "prev": "4a9da899-7623-42c5-b94c-b0c1869055d6",
     "regions": {
      "e919b361-119c-4820-be89-7b0748fb9c4d": {
       "attrs": {
        "height": 0.8,
        "width": 0.8,
        "x": 0.1,
        "y": 0.1
       },
       "content": {
        "cell": "88eea43c-9a9b-4d0b-9089-b796f93956eb",
        "part": "whole"
       },
       "id": "e919b361-119c-4820-be89-7b0748fb9c4d"
      }
     }
    },
    "32331a19-8b6b-4ca5-ae48-8741197b7685": {
     "id": "32331a19-8b6b-4ca5-ae48-8741197b7685",
     "prev": "9d0e10fe-c675-41b5-b7db-e32e93bf7386",
     "regions": {
      "ac1d82d7-3ae8-4f92-a00b-f85fc3c38f92": {
       "attrs": {
        "height": 0.8,
        "width": 0.8,
        "x": 0.1,
        "y": 0.1
       },
       "content": {
        "cell": "4e487cad-fa23-4805-b263-3fe4ed22479d",
        "part": "whole"
       },
       "id": "ac1d82d7-3ae8-4f92-a00b-f85fc3c38f92"
      }
     }
    },
    "341a5a16-4d40-42ad-9d54-3d2f7ab47ca0": {
     "id": "341a5a16-4d40-42ad-9d54-3d2f7ab47ca0",
     "prev": "893d3b0d-67ab-445f-9f61-eead8495156a",
     "regions": {
      "d67c4b63-2468-48d3-9d90-a543c1492cce": {
       "attrs": {
        "height": 0.8,
        "width": 0.8,
        "x": 0.1,
        "y": 0.1
       },
       "content": {
        "cell": "ae1b13cc-3967-4423-9d26-e225d775b357",
        "part": "whole"
       },
       "id": "d67c4b63-2468-48d3-9d90-a543c1492cce"
      }
     }
    },
    "352084e7-599a-4e39-a762-9f9d1142f2b1": {
     "id": "352084e7-599a-4e39-a762-9f9d1142f2b1",
     "prev": "fe80815b-e755-4336-bbfc-b9fb9b128dad",
     "regions": {
      "a2cd06cc-edce-484a-aea8-2922602ba363": {
       "attrs": {
        "height": 0.8,
        "width": 0.8,
        "x": 0.1,
        "y": 0.1
       },
       "content": {
        "cell": "3ad567a8-ace7-4560-a231-cd64c7c8a6c2",
        "part": "whole"
       },
       "id": "a2cd06cc-edce-484a-aea8-2922602ba363"
      }
     }
    },
    "37457a24-8ebd-40bb-a91f-5c2fee953660": {
     "id": "37457a24-8ebd-40bb-a91f-5c2fee953660",
     "prev": "3b08ee6f-d5fd-4486-95fb-c17ec086e2d4",
     "regions": {
      "0e3a314f-9253-450f-8a53-158ce62569e6": {
       "attrs": {
        "height": 0.8,
        "width": 0.8,
        "x": 0.1,
        "y": 0.1
       },
       "content": {
        "cell": "18e82d50-8518-4e66-b25d-51d4c3700417",
        "part": "whole"
       },
       "id": "0e3a314f-9253-450f-8a53-158ce62569e6"
      }
     }
    },
    "38f14d45-62c6-44b0-b768-700b1a93b359": {
     "id": "38f14d45-62c6-44b0-b768-700b1a93b359",
     "prev": "2eecff33-5d18-4c9b-b90e-a2d794c42b60",
     "regions": {
      "2cd018df-3c30-4a4a-bf87-e3dfc3baeff9": {
       "attrs": {
        "height": 0.8,
        "width": 0.8,
        "x": 0.1,
        "y": 0.1
       },
       "content": {
        "cell": "fe259f89-1bd6-4032-b372-31abdc271cd4",
        "part": "whole"
       },
       "id": "2cd018df-3c30-4a4a-bf87-e3dfc3baeff9"
      }
     }
    },
    "3a069eb7-c8a5-4fb3-88eb-01910e68d30b": {
     "id": "3a069eb7-c8a5-4fb3-88eb-01910e68d30b",
     "prev": "9f200e9d-d857-46f3-860e-7cf46c71695a",
     "regions": {
      "6062387c-64e8-452e-8a47-5fa07c5972cf": {
       "attrs": {
        "height": 0.8,
        "width": 0.8,
        "x": 0.1,
        "y": 0.1
       },
       "content": {
        "cell": "aa10ef29-40a0-44e9-85f2-7029eee59756",
        "part": "whole"
       },
       "id": "6062387c-64e8-452e-8a47-5fa07c5972cf"
      }
     }
    },
    "3a156a27-66fe-48d9-851f-ccd1f384f3fa": {
     "id": "3a156a27-66fe-48d9-851f-ccd1f384f3fa",
     "prev": "8e3c8a00-32d6-42fa-b2d2-faef4b57164c",
     "regions": {
      "ab82b6bc-4bc1-4aee-bc04-920f334329be": {
       "attrs": {
        "height": 0.8,
        "width": 0.8,
        "x": 0.1,
        "y": 0.1
       },
       "content": {
        "cell": "c41215e2-b733-4bd1-9a47-364c0217c104",
        "part": "whole"
       },
       "id": "ab82b6bc-4bc1-4aee-bc04-920f334329be"
      }
     }
    },
    "3ad7e1a7-9048-440b-bfe8-9e16ab5de217": {
     "id": "3ad7e1a7-9048-440b-bfe8-9e16ab5de217",
     "prev": "b895072e-a7a7-41c5-9071-c3062ad33e9b",
     "regions": {
      "ae216d6e-f8d2-4b6b-9816-37f6c9415cd2": {
       "attrs": {
        "height": 0.8,
        "width": 0.8,
        "x": 0.1,
        "y": 0.1
       },
       "content": {
        "cell": "d48168e6-53ce-4342-87d1-7b9d2b22ad30",
        "part": "whole"
       },
       "id": "ae216d6e-f8d2-4b6b-9816-37f6c9415cd2"
      }
     }
    },
    "3b08ee6f-d5fd-4486-95fb-c17ec086e2d4": {
     "id": "3b08ee6f-d5fd-4486-95fb-c17ec086e2d4",
     "prev": "8b000003-7cc6-4ee0-ae8f-35d0f65343cf",
     "regions": {
      "7ee13a3a-51fb-4a37-b84f-d3f21ad2b956": {
       "attrs": {
        "height": 0.8,
        "width": 0.8,
        "x": 0.1,
        "y": 0.1
       },
       "content": {
        "cell": "90211fdb-3dff-4384-802e-681dda55a75c",
        "part": "whole"
       },
       "id": "7ee13a3a-51fb-4a37-b84f-d3f21ad2b956"
      }
     }
    },
    "40cd78fc-2e46-452e-bd9f-005bbed9ed32": {
     "id": "40cd78fc-2e46-452e-bd9f-005bbed9ed32",
     "prev": "c5d9aa9f-94e8-48a8-8ad1-f90aec6a1205",
     "regions": {
      "115796e7-9a35-4a41-b25d-caa554c7fb10": {
       "attrs": {
        "height": 0.8,
        "width": 0.8,
        "x": 0.1,
        "y": 0.1
       },
       "content": {
        "cell": "5c26ed23-5f68-4f3a-b050-da797b6b5788",
        "part": "whole"
       },
       "id": "115796e7-9a35-4a41-b25d-caa554c7fb10"
      }
     }
    },
    "4254e95a-8387-4fa1-842a-4065c2807836": {
     "id": "4254e95a-8387-4fa1-842a-4065c2807836",
     "prev": "c28d83d7-f293-4f94-a240-da6c8e1246f0",
     "regions": {
      "71d6c14b-0923-4fbd-ba0f-a687aef7a0fa": {
       "attrs": {
        "height": 0.8,
        "width": 0.8,
        "x": 0.1,
        "y": 0.1
       },
       "content": {
        "cell": "85742616-af0f-4362-aec9-fbca44fedb9c",
        "part": "whole"
       },
       "id": "71d6c14b-0923-4fbd-ba0f-a687aef7a0fa"
      }
     }
    },
    "42bed900-e124-4abc-a345-36e714d7a7ea": {
     "id": "42bed900-e124-4abc-a345-36e714d7a7ea",
     "prev": "32331a19-8b6b-4ca5-ae48-8741197b7685",
     "regions": {
      "0fc1087e-60da-4595-b74d-a0c9a7c982dc": {
       "attrs": {
        "height": 0.8,
        "width": 0.8,
        "x": 0.1,
        "y": 0.1
       },
       "content": {
        "cell": "3e0bb58c-5119-41e8-9fb7-62c3ef520052",
        "part": "whole"
       },
       "id": "0fc1087e-60da-4595-b74d-a0c9a7c982dc"
      }
     }
    },
    "4a9da899-7623-42c5-b94c-b0c1869055d6": {
     "id": "4a9da899-7623-42c5-b94c-b0c1869055d6",
     "prev": "fc1f342e-e3e6-44d8-94e4-ace76eb8712d",
     "regions": {
      "e8fc1cac-a659-4787-9923-3e54fa13f511": {
       "attrs": {
        "height": 0.8,
        "width": 0.8,
        "x": 0.1,
        "y": 0.1
       },
       "content": {
        "cell": "c44a6938-312d-42a7-beed-21387faf6397",
        "part": "whole"
       },
       "id": "e8fc1cac-a659-4787-9923-3e54fa13f511"
      }
     }
    },
    "4b019732-4df9-4399-b928-16f5b2c8daef": {
     "id": "4b019732-4df9-4399-b928-16f5b2c8daef",
     "prev": "f48c6e6f-0015-4c3c-ac28-f19ac4965a93",
     "regions": {
      "442ad595-0b69-44a6-84f6-ccb287c7393c": {
       "attrs": {
        "height": 0.8,
        "width": 0.8,
        "x": 0.1,
        "y": 0.1
       },
       "content": {
        "cell": "efc72656-fb4d-4b02-b57f-770a4cc488b1",
        "part": "whole"
       },
       "id": "442ad595-0b69-44a6-84f6-ccb287c7393c"
      }
     }
    },
    "4cb4cad9-56ff-4799-9a83-74e070c4e7dc": {
     "id": "4cb4cad9-56ff-4799-9a83-74e070c4e7dc",
     "prev": "8c12d2d0-968e-4abb-892f-d36328ef4eed",
     "regions": {
      "558ba880-ea0a-4ab9-9ffe-808e88cfeee2": {
       "attrs": {
        "height": 0.8,
        "width": 0.8,
        "x": 0.1,
        "y": 0.1
       },
       "content": {
        "cell": "54402224-2234-4aea-b3c4-48b5d1af960a",
        "part": "whole"
       },
       "id": "558ba880-ea0a-4ab9-9ffe-808e88cfeee2"
      }
     }
    },
    "51920cb0-612d-43c3-950c-0e2fb85bc7ed": {
     "id": "51920cb0-612d-43c3-950c-0e2fb85bc7ed",
     "prev": "217a1918-1a3f-4bca-a296-618853da7055",
     "regions": {
      "c31eae16-d9a8-48c1-ae46-1332e2602b94": {
       "attrs": {
        "height": 0.8,
        "width": 0.8,
        "x": 0.1,
        "y": 0.1
       },
       "content": {
        "cell": "f426a87f-19a8-40ed-8d08-9c547c4d8314",
        "part": "whole"
       },
       "id": "c31eae16-d9a8-48c1-ae46-1332e2602b94"
      }
     }
    },
    "532738ba-272b-4d2e-b952-5bb67e411a20": {
     "id": "532738ba-272b-4d2e-b952-5bb67e411a20",
     "prev": "aeca66e8-70f9-40cd-b2f6-95d97b2c0675",
     "regions": {
      "8eaa0933-5754-4539-ab76-66fc011ed8c5": {
       "attrs": {
        "height": 0.8,
        "width": 0.8,
        "x": 0.1,
        "y": 0.1
       },
       "content": {
        "cell": "61843e96-e6cb-45bb-b68e-e89e84e12512",
        "part": "whole"
       },
       "id": "8eaa0933-5754-4539-ab76-66fc011ed8c5"
      }
     }
    },
    "5a4e9dd7-c160-41a5-9efb-3b23120f9e8a": {
     "id": "5a4e9dd7-c160-41a5-9efb-3b23120f9e8a",
     "prev": "8225da27-4e6b-480b-a4c0-26e6e7ff8619",
     "regions": {
      "0af29bde-1508-4883-9279-de52dd5b8155": {
       "attrs": {
        "height": 0.8,
        "width": 0.8,
        "x": 0.1,
        "y": 0.1
       },
       "content": {
        "cell": "78cc3384-6cd0-4c80-864a-1dbfd61670c6",
        "part": "whole"
       },
       "id": "0af29bde-1508-4883-9279-de52dd5b8155"
      }
     }
    },
    "5f5c5c8c-115a-489d-b09c-3cf67877965b": {
     "id": "5f5c5c8c-115a-489d-b09c-3cf67877965b",
     "prev": "695043dc-a81e-4027-9737-672e61af32b9",
     "regions": {
      "40bf3757-6df9-46ee-8723-da755c4e09eb": {
       "attrs": {
        "height": 0.8,
        "width": 0.8,
        "x": 0.1,
        "y": 0.1
       },
       "content": {
        "cell": "59f35abe-000a-4078-9db2-d59a049e8ad2",
        "part": "whole"
       },
       "id": "40bf3757-6df9-46ee-8723-da755c4e09eb"
      }
     }
    },
    "604ff3a6-84d3-4d1a-a006-f861902543a6": {
     "id": "604ff3a6-84d3-4d1a-a006-f861902543a6",
     "prev": "e20d3856-cd96-4e1e-a19a-6c9dcfd7d7d2",
     "regions": {
      "591f474c-3240-4b54-9d4e-47f9b87e8e16": {
       "attrs": {
        "height": 0.8,
        "width": 0.8,
        "x": 0.1,
        "y": 0.1
       },
       "content": {
        "cell": "22d9328f-45a5-4c2e-8a17-007dbecdcc78",
        "part": "whole"
       },
       "id": "591f474c-3240-4b54-9d4e-47f9b87e8e16"
      }
     }
    },
    "64cbe2a3-dd99-4e99-9a1c-024ae5f034c7": {
     "id": "64cbe2a3-dd99-4e99-9a1c-024ae5f034c7",
     "prev": "19d56d76-f702-4107-872e-26523de14be5",
     "regions": {
      "885f1cec-aa1f-4450-bcfa-9c488b43d067": {
       "attrs": {
        "height": 0.8,
        "width": 0.8,
        "x": 0.1,
        "y": 0.1
       },
       "content": {
        "cell": "f13eae53-d34b-448f-b783-5b8a23a930d9",
        "part": "whole"
       },
       "id": "885f1cec-aa1f-4450-bcfa-9c488b43d067"
      }
     }
    },
    "680ac603-a8a0-4ca5-b96d-1b567b142e38": {
     "id": "680ac603-a8a0-4ca5-b96d-1b567b142e38",
     "prev": "258e66e9-7e3c-45b9-ba98-44360b7c438b",
     "regions": {
      "5338a832-cc58-48b5-862f-aee083110d92": {
       "attrs": {
        "height": 0.8,
        "width": 0.8,
        "x": 0.1,
        "y": 0.1
       },
       "content": {
        "cell": "a5cc164d-dbd9-4dff-aabc-3b3cfd34f945",
        "part": "whole"
       },
       "id": "5338a832-cc58-48b5-862f-aee083110d92"
      }
     }
    },
    "686191d3-eb8f-4e9d-8bb1-2c3dbde0e7f5": {
     "id": "686191d3-eb8f-4e9d-8bb1-2c3dbde0e7f5",
     "prev": "40cd78fc-2e46-452e-bd9f-005bbed9ed32",
     "regions": {
      "b31d090b-d930-4421-a149-ffbc36eb1ff0": {
       "attrs": {
        "height": 0.8,
        "width": 0.8,
        "x": 0.1,
        "y": 0.1
       },
       "content": {
        "cell": "24c0bbd7-b642-42a6-8eb5-fb47404ae31c",
        "part": "whole"
       },
       "id": "b31d090b-d930-4421-a149-ffbc36eb1ff0"
      }
     }
    },
    "68a453f1-3087-43fd-bb54-4604c3d1ad36": {
     "id": "68a453f1-3087-43fd-bb54-4604c3d1ad36",
     "prev": "42bed900-e124-4abc-a345-36e714d7a7ea",
     "regions": {
      "c2e2769e-3a18-4cd6-97de-9202c8626474": {
       "attrs": {
        "height": 0.8,
        "width": 0.8,
        "x": 0.1,
        "y": 0.1
       },
       "content": {
        "cell": "86371aba-9a82-4bb7-80fc-e5744a74bdeb",
        "part": "whole"
       },
       "id": "c2e2769e-3a18-4cd6-97de-9202c8626474"
      }
     }
    },
    "695043dc-a81e-4027-9737-672e61af32b9": {
     "id": "695043dc-a81e-4027-9737-672e61af32b9",
     "prev": "64cbe2a3-dd99-4e99-9a1c-024ae5f034c7",
     "regions": {
      "c35669df-ac6f-43c7-9a2a-a376581ad231": {
       "attrs": {
        "height": 0.8,
        "width": 0.8,
        "x": 0.1,
        "y": 0.1
       },
       "content": {
        "cell": "79b51c26-59ec-4392-89a8-52883e2f4711",
        "part": "whole"
       },
       "id": "c35669df-ac6f-43c7-9a2a-a376581ad231"
      }
     }
    },
    "6a052626-1702-4a7f-ba76-79d0bb5d1539": {
     "id": "6a052626-1702-4a7f-ba76-79d0bb5d1539",
     "prev": "eb6c7b82-cc60-468c-a09f-ef4f5a8dc04e",
     "regions": {
      "64893611-1341-4fc5-8336-7c30243319c0": {
       "attrs": {
        "height": 0.8,
        "width": 0.8,
        "x": 0.1,
        "y": 0.1
       },
       "content": {
        "cell": "2204cf60-e8e8-4662-95dd-7cbe5b9ac2f9",
        "part": "whole"
       },
       "id": "64893611-1341-4fc5-8336-7c30243319c0"
      }
     }
    },
    "6d2771c2-7208-40c0-bcf7-7259853d6f21": {
     "id": "6d2771c2-7208-40c0-bcf7-7259853d6f21",
     "prev": "8e11c135-b851-4299-a02f-4c1122a9bb91",
     "regions": {
      "88e0b6fa-c7d9-4dbb-9a4d-42c495c1e1e4": {
       "attrs": {
        "height": 0.8,
        "width": 0.8,
        "x": 0.1,
        "y": 0.1
       },
       "content": {
        "cell": "860c9b5a-ebfb-4549-ad9b-adb3e33ab033",
        "part": "whole"
       },
       "id": "88e0b6fa-c7d9-4dbb-9a4d-42c495c1e1e4"
      }
     }
    },
    "74ad661a-62ad-4c96-b258-b3208571defe": {
     "id": "74ad661a-62ad-4c96-b258-b3208571defe",
     "prev": "7d7db41a-16ef-4fd6-ae7d-f3888bd33924",
     "regions": {
      "68c267b0-8e0e-40b9-ab67-b968a3debc34": {
       "attrs": {
        "height": 0.8,
        "width": 0.8,
        "x": 0.1,
        "y": 0.1
       },
       "content": {
        "cell": "f05c843a-930f-4206-958c-e91404cd629e",
        "part": "whole"
       },
       "id": "68c267b0-8e0e-40b9-ab67-b968a3debc34"
      }
     }
    },
    "76fbbe9c-d58a-4886-a817-165c2b1d4bed": {
     "id": "76fbbe9c-d58a-4886-a817-165c2b1d4bed",
     "prev": "28ace467-d3c4-40d4-9fc6-e1708a46b6da",
     "regions": {
      "c0a0dc08-4cd9-4acb-9b50-e0aaef61ee61": {
       "attrs": {
        "height": 0.8,
        "width": 0.8,
        "x": 0.1,
        "y": 0.1
       },
       "content": {
        "cell": "9a2f28bb-67ff-49c9-8b16-6ca8dff91d0a",
        "part": "whole"
       },
       "id": "c0a0dc08-4cd9-4acb-9b50-e0aaef61ee61"
      }
     }
    },
    "77bb7912-9e23-4d0f-b809-159d3bfe337d": {
     "id": "77bb7912-9e23-4d0f-b809-159d3bfe337d",
     "prev": "b4809294-458c-4bbe-b268-a26c46289bb9",
     "regions": {
      "53de9582-f15e-4f14-b857-0a98f7077abb": {
       "attrs": {
        "height": 0.8,
        "width": 0.8,
        "x": 0.1,
        "y": 0.1
       },
       "content": {
        "cell": "c6d20682-03be-4bd0-a095-2b0645e990b5",
        "part": "whole"
       },
       "id": "53de9582-f15e-4f14-b857-0a98f7077abb"
      }
     }
    },
    "7be4ec49-6c26-448c-a614-6a3298a4e4b9": {
     "id": "7be4ec49-6c26-448c-a614-6a3298a4e4b9",
     "prev": "8bb6936d-f97c-4532-b090-0d7b324f3e31",
     "regions": {
      "0eec3d0a-418e-4927-92fd-4ca19fe8b9d3": {
       "attrs": {
        "height": 0.8,
        "width": 0.8,
        "x": 0.1,
        "y": 0.1
       },
       "content": {
        "cell": "cac27b87-a573-4b65-82e3-fbe01598ac9e",
        "part": "whole"
       },
       "id": "0eec3d0a-418e-4927-92fd-4ca19fe8b9d3"
      }
     }
    },
    "7d7db41a-16ef-4fd6-ae7d-f3888bd33924": {
     "id": "7d7db41a-16ef-4fd6-ae7d-f3888bd33924",
     "prev": "a1f41431-07b4-4b22-80ad-9d29400c7a25",
     "regions": {
      "54e257a3-7a5f-4f74-bae2-d484098dc842": {
       "attrs": {
        "height": 0.8,
        "width": 0.8,
        "x": 0.1,
        "y": 0.1
       },
       "content": {
        "cell": "e6b06094-de1a-4a42-b7e7-9faac8154202",
        "part": "whole"
       },
       "id": "54e257a3-7a5f-4f74-bae2-d484098dc842"
      }
     }
    },
    "7d802b11-a0ca-4ca0-8bc8-d8bfb27723df": {
     "id": "7d802b11-a0ca-4ca0-8bc8-d8bfb27723df",
     "prev": "051ec760-8a73-4929-8e20-740f84d30017",
     "regions": {
      "b2cbafea-501b-4c78-a0e3-51a17d18ad9f": {
       "attrs": {
        "height": 0.8,
        "width": 0.8,
        "x": 0.1,
        "y": 0.1
       },
       "content": {
        "cell": "09403401-4653-47b9-b6f6-0e0979ee307d",
        "part": "whole"
       },
       "id": "b2cbafea-501b-4c78-a0e3-51a17d18ad9f"
      }
     }
    },
    "8225da27-4e6b-480b-a4c0-26e6e7ff8619": {
     "id": "8225da27-4e6b-480b-a4c0-26e6e7ff8619",
     "prev": "26819607-9241-43e1-adb1-e2fcaeac5eea",
     "regions": {
      "59b8bef3-89b6-454e-81a3-5d48c8ef0049": {
       "attrs": {
        "height": 0.8,
        "width": 0.8,
        "x": 0.1,
        "y": 0.1
       },
       "content": {
        "cell": "2aeb332e-1df1-4540-913d-20e88b8c6949",
        "part": "whole"
       },
       "id": "59b8bef3-89b6-454e-81a3-5d48c8ef0049"
      }
     }
    },
    "86df4328-3a33-4eae-b6e0-a427cbb1049a": {
     "id": "86df4328-3a33-4eae-b6e0-a427cbb1049a",
     "prev": "5f5c5c8c-115a-489d-b09c-3cf67877965b",
     "regions": {
      "5b2b9be8-b06f-4af7-89fc-4ca1aa8b436c": {
       "attrs": {
        "height": 0.8,
        "width": 0.8,
        "x": 0.1,
        "y": 0.1
       },
       "content": {
        "cell": "2b86b097-f559-4dd6-8abb-9cdf05448703",
        "part": "whole"
       },
       "id": "5b2b9be8-b06f-4af7-89fc-4ca1aa8b436c"
      }
     }
    },
    "893d3b0d-67ab-445f-9f61-eead8495156a": {
     "id": "893d3b0d-67ab-445f-9f61-eead8495156a",
     "prev": "cc1562c5-706f-4aa9-8a97-e60e2d911fee",
     "regions": {
      "0dbf558f-ef2f-4b51-a7e5-7ab3f891fee5": {
       "attrs": {
        "height": 0.8,
        "width": 0.8,
        "x": 0.1,
        "y": 0.1
       },
       "content": {
        "cell": "bf9992e7-8c80-454d-9a6c-d4291315af9c",
        "part": "whole"
       },
       "id": "0dbf558f-ef2f-4b51-a7e5-7ab3f891fee5"
      }
     }
    },
    "8b000003-7cc6-4ee0-ae8f-35d0f65343cf": {
     "id": "8b000003-7cc6-4ee0-ae8f-35d0f65343cf",
     "prev": "00a62432-f10c-4412-8bcd-e026e10ebc8d",
     "regions": {
      "ab63ee5a-d9d2-4e36-b339-28d46c5e3211": {
       "attrs": {
        "height": 0.8,
        "width": 0.8,
        "x": 0.1,
        "y": 0.1
       },
       "content": {
        "cell": "bad11b01-fa68-4b2a-93e2-4880f0da6f88",
        "part": "whole"
       },
       "id": "ab63ee5a-d9d2-4e36-b339-28d46c5e3211"
      }
     }
    },
    "8bb6936d-f97c-4532-b090-0d7b324f3e31": {
     "id": "8bb6936d-f97c-4532-b090-0d7b324f3e31",
     "prev": "68a453f1-3087-43fd-bb54-4604c3d1ad36",
     "regions": {
      "3a8cbf51-1a10-4bc4-b69e-373f05af75e2": {
       "attrs": {
        "height": 0.8,
        "width": 0.8,
        "x": 0.1,
        "y": 0.1
       },
       "content": {
        "cell": "f747a408-247f-4a0d-a3cc-09fcbb048f0d",
        "part": "whole"
       },
       "id": "3a8cbf51-1a10-4bc4-b69e-373f05af75e2"
      }
     }
    },
    "8c12d2d0-968e-4abb-892f-d36328ef4eed": {
     "id": "8c12d2d0-968e-4abb-892f-d36328ef4eed",
     "prev": "195f3d30-4a84-4e6b-8ed2-e6f5b5914dbe",
     "regions": {
      "8418cc9e-41fa-48c3-b395-ca79ca796653": {
       "attrs": {
        "height": 0.8,
        "width": 0.8,
        "x": 0.1,
        "y": 0.1
       },
       "content": {
        "cell": "a06b4929-f06c-462c-8a75-fad251244f51",
        "part": "whole"
       },
       "id": "8418cc9e-41fa-48c3-b395-ca79ca796653"
      }
     }
    },
    "8c9a351a-e780-48d9-bf50-4e953ffa99b1": {
     "id": "8c9a351a-e780-48d9-bf50-4e953ffa99b1",
     "prev": "03af466d-1d66-4822-b9a1-d993738049ff",
     "regions": {
      "7ecf899c-25db-4a30-863c-1179ea09fb69": {
       "attrs": {
        "height": 0.8,
        "width": 0.8,
        "x": 0.1,
        "y": 0.1
       },
       "content": {
        "cell": "fa6b35a8-f02d-4565-95a3-c8b303887fce",
        "part": "whole"
       },
       "id": "7ecf899c-25db-4a30-863c-1179ea09fb69"
      }
     }
    },
    "8e11c135-b851-4299-a02f-4c1122a9bb91": {
     "id": "8e11c135-b851-4299-a02f-4c1122a9bb91",
     "prev": "4b019732-4df9-4399-b928-16f5b2c8daef",
     "regions": {
      "b31c31fa-99a0-4808-a256-0a2f64bd330a": {
       "attrs": {
        "height": 0.8,
        "width": 0.8,
        "x": 0.1,
        "y": 0.1
       },
       "content": {
        "cell": "b61fba32-7c51-4fbb-b561-9b57d67796d5",
        "part": "whole"
       },
       "id": "b31c31fa-99a0-4808-a256-0a2f64bd330a"
      }
     }
    },
    "8e363ed1-3a6d-4265-ae5c-a8d088925e55": {
     "id": "8e363ed1-3a6d-4265-ae5c-a8d088925e55",
     "prev": "a48129ea-7568-4ab0-8ee0-697cf8acabab",
     "regions": {
      "e08c7d2f-fd02-4c18-ab0e-acdace72e057": {
       "attrs": {
        "height": 0.8,
        "width": 0.8,
        "x": 0.1,
        "y": 0.1
       },
       "content": {
        "cell": "31b01e07-e31d-4d64-9f20-7cbce9cc8af7",
        "part": "whole"
       },
       "id": "e08c7d2f-fd02-4c18-ab0e-acdace72e057"
      }
     }
    },
    "8e3c8a00-32d6-42fa-b2d2-faef4b57164c": {
     "id": "8e3c8a00-32d6-42fa-b2d2-faef4b57164c",
     "prev": "e8840f00-1252-478c-88f2-af9babdb45ad",
     "regions": {
      "6882941a-3e8e-4620-8e10-5152d8176b12": {
       "attrs": {
        "height": 0.8,
        "width": 0.8,
        "x": 0.1,
        "y": 0.1
       },
       "content": {
        "cell": "06d1a1bb-3d44-44f8-9763-dc2c9e6d9679",
        "part": "whole"
       },
       "id": "6882941a-3e8e-4620-8e10-5152d8176b12"
      }
     }
    },
    "8f759ed8-28cc-4f7e-88ad-eed71aaf64ae": {
     "id": "8f759ed8-28cc-4f7e-88ad-eed71aaf64ae",
     "prev": "b1e90ac6-ef55-4ea1-a297-a9ab4e974539",
     "regions": {
      "81edbed8-ac9a-4cb0-b416-0ac7dfac8c8e": {
       "attrs": {
        "height": 0.8,
        "width": 0.8,
        "x": 0.1,
        "y": 0.1
       },
       "content": {
        "cell": "44955dd5-e870-46e2-8c33-e824b9a81769",
        "part": "whole"
       },
       "id": "81edbed8-ac9a-4cb0-b416-0ac7dfac8c8e"
      }
     }
    },
    "97290c46-8abf-4905-98f3-be2759496409": {
     "id": "97290c46-8abf-4905-98f3-be2759496409",
     "prev": "1e6f56da-81c5-4b5c-aca9-57212d6ab303",
     "regions": {
      "2c3b2b5d-0fdc-4c23-9660-f8581e2f798b": {
       "attrs": {
        "height": 0.8,
        "width": 0.8,
        "x": 0.1,
        "y": 0.1
       },
       "content": {
        "cell": "1b680175-9215-46fb-9894-cb62bf6196a9",
        "part": "whole"
       },
       "id": "2c3b2b5d-0fdc-4c23-9660-f8581e2f798b"
      }
     }
    },
    "9d0e10fe-c675-41b5-b7db-e32e93bf7386": {
     "id": "9d0e10fe-c675-41b5-b7db-e32e93bf7386",
     "prev": "7d802b11-a0ca-4ca0-8bc8-d8bfb27723df",
     "regions": {
      "dee9d3ec-f1fc-4706-a861-c7d2b1073c07": {
       "attrs": {
        "height": 0.8,
        "width": 0.8,
        "x": 0.1,
        "y": 0.1
       },
       "content": {
        "cell": "ad6a92f4-dfb8-46a9-8126-105dd56c850c",
        "part": "whole"
       },
       "id": "dee9d3ec-f1fc-4706-a861-c7d2b1073c07"
      }
     }
    },
    "9d591c07-9569-4e76-85f8-2f9592e328a2": {
     "id": "9d591c07-9569-4e76-85f8-2f9592e328a2",
     "prev": "8c9a351a-e780-48d9-bf50-4e953ffa99b1",
     "regions": {
      "25e2a06d-8b17-4325-ae55-1d2b6c7fba7d": {
       "attrs": {
        "height": 0.8,
        "width": 0.8,
        "x": 0.1,
        "y": 0.1
       },
       "content": {
        "cell": "ead1a75e-3495-46cd-a5bb-57050087dbe3",
        "part": "whole"
       },
       "id": "25e2a06d-8b17-4325-ae55-1d2b6c7fba7d"
      }
     }
    },
    "9f200e9d-d857-46f3-860e-7cf46c71695a": {
     "id": "9f200e9d-d857-46f3-860e-7cf46c71695a",
     "prev": "226f7efc-af60-4eea-aa43-78d03a2dc895",
     "regions": {
      "46593223-c571-40c3-a418-567275e0557a": {
       "attrs": {
        "height": 0.8,
        "width": 0.8,
        "x": 0.1,
        "y": 0.1
       },
       "content": {
        "cell": "adbfa273-9db0-430f-8a3e-1e816f8dc91a",
        "part": "whole"
       },
       "id": "46593223-c571-40c3-a418-567275e0557a"
      }
     }
    },
    "a16a8064-c4c8-4ab0-a80e-ed58ad7bb9c3": {
     "id": "a16a8064-c4c8-4ab0-a80e-ed58ad7bb9c3",
     "prev": "4254e95a-8387-4fa1-842a-4065c2807836",
     "regions": {
      "761bd53b-52fd-42d2-9beb-4989cfafb402": {
       "attrs": {
        "height": 0.8,
        "width": 0.8,
        "x": 0.1,
        "y": 0.1
       },
       "content": {
        "cell": "48d1224f-d31b-406f-930d-8190afb01c15",
        "part": "whole"
       },
       "id": "761bd53b-52fd-42d2-9beb-4989cfafb402"
      }
     }
    },
    "a1f41431-07b4-4b22-80ad-9d29400c7a25": {
     "id": "a1f41431-07b4-4b22-80ad-9d29400c7a25",
     "prev": "680ac603-a8a0-4ca5-b96d-1b567b142e38",
     "regions": {
      "4216bfa0-3d71-4c17-8856-8efe50e96fa5": {
       "attrs": {
        "height": 0.8,
        "width": 0.8,
        "x": 0.1,
        "y": 0.1
       },
       "content": {
        "cell": "75bdd8bb-d66f-475f-9854-df8e7feee6a9",
        "part": "whole"
       },
       "id": "4216bfa0-3d71-4c17-8856-8efe50e96fa5"
      }
     }
    },
    "a23cf1a1-1067-4e65-8893-ac1bc2924010": {
     "id": "a23cf1a1-1067-4e65-8893-ac1bc2924010",
     "prev": "352084e7-599a-4e39-a762-9f9d1142f2b1",
     "regions": {
      "dcb6f81b-2f3e-4f34-a244-6e1ae5461aac": {
       "attrs": {
        "height": 0.8,
        "width": 0.8,
        "x": 0.1,
        "y": 0.1
       },
       "content": {
        "cell": "4111d686-a2e9-4ee0-b19d-adff189d81fd",
        "part": "whole"
       },
       "id": "dcb6f81b-2f3e-4f34-a244-6e1ae5461aac"
      }
     }
    },
    "a32e2467-a6ff-4c23-b58a-2b3c54215a29": {
     "id": "a32e2467-a6ff-4c23-b58a-2b3c54215a29",
     "prev": "76fbbe9c-d58a-4886-a817-165c2b1d4bed",
     "regions": {
      "1d155ee6-669c-4026-90b8-a0898f08b66b": {
       "attrs": {
        "height": 0.8,
        "width": 0.8,
        "x": 0.1,
        "y": 0.1
       },
       "content": {
        "cell": "92e92e59-3b04-4b3c-9518-ac7b9b6c9d72",
        "part": "whole"
       },
       "id": "1d155ee6-669c-4026-90b8-a0898f08b66b"
      }
     }
    },
    "a393f077-a800-4fe2-a0c3-f49bc1029232": {
     "id": "a393f077-a800-4fe2-a0c3-f49bc1029232",
     "prev": "38f14d45-62c6-44b0-b768-700b1a93b359",
     "regions": {
      "719da2a4-a533-49eb-9f3a-270e59a5bc5e": {
       "attrs": {
        "height": 0.8,
        "width": 0.8,
        "x": 0.1,
        "y": 0.1
       },
       "content": {
        "cell": "57390f07-925e-40d0-8986-6b6a2e37db10",
        "part": "whole"
       },
       "id": "719da2a4-a533-49eb-9f3a-270e59a5bc5e"
      }
     }
    },
    "a48129ea-7568-4ab0-8ee0-697cf8acabab": {
     "id": "a48129ea-7568-4ab0-8ee0-697cf8acabab",
     "prev": "2d780005-4af1-4fd7-a519-3f7c79bc5775",
     "regions": {
      "1eff8133-7175-42eb-abcd-b73353f0419d": {
       "attrs": {
        "height": 0.8,
        "width": 0.8,
        "x": 0.1,
        "y": 0.1
       },
       "content": {
        "cell": "a021d0e9-46be-46ee-8d34-da0a11e8b3e3",
        "part": "whole"
       },
       "id": "1eff8133-7175-42eb-abcd-b73353f0419d"
      }
     }
    },
    "aeca66e8-70f9-40cd-b2f6-95d97b2c0675": {
     "id": "aeca66e8-70f9-40cd-b2f6-95d97b2c0675",
     "prev": "c79ae131-5ee9-4155-9fac-e2d5cb326586",
     "regions": {
      "78312e34-bdeb-491e-a296-39a4a7039254": {
       "attrs": {
        "height": 0.8,
        "width": 0.8,
        "x": 0.1,
        "y": 0.1
       },
       "content": {
        "cell": "6d1d1f0a-affa-4e0a-976c-349823e00ca5",
        "part": "whole"
       },
       "id": "78312e34-bdeb-491e-a296-39a4a7039254"
      }
     }
    },
    "b1e90ac6-ef55-4ea1-a297-a9ab4e974539": {
     "id": "b1e90ac6-ef55-4ea1-a297-a9ab4e974539",
     "prev": "14c4a7e9-04a0-40a3-b312-8a3104bda1df",
     "regions": {
      "37d3aefd-53f1-46b8-a211-1200aef33b4f": {
       "attrs": {
        "height": 0.8,
        "width": 0.8,
        "x": 0.1,
        "y": 0.1
       },
       "content": {
        "cell": "846e7c66-4f0a-40e0-9c00-39fb7d757e0e",
        "part": "whole"
       },
       "id": "37d3aefd-53f1-46b8-a211-1200aef33b4f"
      }
     }
    },
    "b3d66a34-f171-499b-83eb-da274644dc1c": {
     "id": "b3d66a34-f171-499b-83eb-da274644dc1c",
     "prev": "6d2771c2-7208-40c0-bcf7-7259853d6f21",
     "regions": {
      "11ce6836-c831-41a4-9914-7ff09aa877d8": {
       "attrs": {
        "height": 0.8,
        "width": 0.8,
        "x": 0.1,
        "y": 0.1
       },
       "content": {
        "cell": "70a78a62-351a-4f79-a5db-dc94e81cd249",
        "part": "whole"
       },
       "id": "11ce6836-c831-41a4-9914-7ff09aa877d8"
      }
     }
    },
    "b479043f-8188-4dda-b72b-1a1667aa5a43": {
     "id": "b479043f-8188-4dda-b72b-1a1667aa5a43",
     "prev": "604ff3a6-84d3-4d1a-a006-f861902543a6",
     "regions": {
      "d7572153-8408-4720-b687-bdf01c4e0d75": {
       "attrs": {
        "height": 0.8,
        "width": 0.8,
        "x": 0.1,
        "y": 0.1
       },
       "content": {
        "cell": "dd1b781e-2623-41a6-a696-13a3fac43473",
        "part": "whole"
       },
       "id": "d7572153-8408-4720-b687-bdf01c4e0d75"
      }
     }
    },
    "b4809294-458c-4bbe-b268-a26c46289bb9": {
     "id": "b4809294-458c-4bbe-b268-a26c46289bb9",
     "prev": "253c5573-e957-4c2f-b20f-e0834e4a962f",
     "regions": {
      "e7924a42-5706-4ca7-b0bc-388d08d0f905": {
       "attrs": {
        "height": 0.8,
        "width": 0.8,
        "x": 0.1,
        "y": 0.1
       },
       "content": {
        "cell": "517e1204-c34b-4fca-b484-417b3867203f",
        "part": "whole"
       },
       "id": "e7924a42-5706-4ca7-b0bc-388d08d0f905"
      }
     }
    },
    "b6904023-502f-4420-85aa-48bcab114aec": {
     "id": "b6904023-502f-4420-85aa-48bcab114aec",
     "prev": "f7a0a1be-bb9f-4bf0-9074-8c20d9a176e9",
     "regions": {
      "0b1d893d-a255-438e-b217-49b871c9b1ad": {
       "attrs": {
        "height": 0.8,
        "width": 0.8,
        "x": 0.1,
        "y": 0.1
       },
       "content": {
        "cell": "5055d86d-950a-43c6-8003-a726885a9f45",
        "part": "whole"
       },
       "id": "0b1d893d-a255-438e-b217-49b871c9b1ad"
      }
     }
    },
    "b895072e-a7a7-41c5-9071-c3062ad33e9b": {
     "id": "b895072e-a7a7-41c5-9071-c3062ad33e9b",
     "prev": "86df4328-3a33-4eae-b6e0-a427cbb1049a",
     "regions": {
      "bbb54245-399e-45b0-a240-9902aa00eb78": {
       "attrs": {
        "height": 0.8,
        "width": 0.8,
        "x": 0.1,
        "y": 0.1
       },
       "content": {
        "cell": "aaf67a4c-160d-4f88-8007-2e2e4e40f2cf",
        "part": "whole"
       },
       "id": "bbb54245-399e-45b0-a240-9902aa00eb78"
      }
     }
    },
    "c28d83d7-f293-4f94-a240-da6c8e1246f0": {
     "id": "c28d83d7-f293-4f94-a240-da6c8e1246f0",
     "prev": "8f759ed8-28cc-4f7e-88ad-eed71aaf64ae",
     "regions": {
      "8bfe812a-2e29-4f0e-8668-edb251dd5e78": {
       "attrs": {
        "height": 0.8,
        "width": 0.8,
        "x": 0.1,
        "y": 0.1
       },
       "content": {
        "cell": "af30dfcb-00b2-4c1f-ba4a-4ce509e41fe3",
        "part": "whole"
       },
       "id": "8bfe812a-2e29-4f0e-8668-edb251dd5e78"
      }
     }
    },
    "c5d9aa9f-94e8-48a8-8ad1-f90aec6a1205": {
     "id": "c5d9aa9f-94e8-48a8-8ad1-f90aec6a1205",
     "prev": "b479043f-8188-4dda-b72b-1a1667aa5a43",
     "regions": {
      "8ecf58a3-d5f9-4330-8860-b8bceddb7e3f": {
       "attrs": {
        "height": 0.8,
        "width": 0.8,
        "x": 0.1,
        "y": 0.1
       },
       "content": {
        "cell": "4596031d-1b81-4075-bfa4-c1fcfe672ce5",
        "part": "whole"
       },
       "id": "8ecf58a3-d5f9-4330-8860-b8bceddb7e3f"
      }
     }
    },
    "c79ae131-5ee9-4155-9fac-e2d5cb326586": {
     "id": "c79ae131-5ee9-4155-9fac-e2d5cb326586",
     "prev": "2ba44e34-2ecb-42c7-9ef2-524fac977517",
     "regions": {
      "64fd8321-74b5-424f-895c-4554e5b6be34": {
       "attrs": {
        "height": 0.8,
        "width": 0.8,
        "x": 0.1,
        "y": 0.1
       },
       "content": {
        "cell": "055714d4-2a2b-4555-af4a-cf917450171c",
        "part": "whole"
       },
       "id": "64fd8321-74b5-424f-895c-4554e5b6be34"
      }
     }
    },
    "c7a8413e-3f54-443f-956c-7dbff1760514": {
     "id": "c7a8413e-3f54-443f-956c-7dbff1760514",
     "prev": "97290c46-8abf-4905-98f3-be2759496409",
     "regions": {
      "01be5c61-86fa-40a6-ac0f-aa2b0e73c661": {
       "attrs": {
        "height": 0.8,
        "width": 0.8,
        "x": 0.1,
        "y": 0.1
       },
       "content": {
        "cell": "927bc5bc-881e-4ef3-adb4-65ea6e44fc33",
        "part": "whole"
       },
       "id": "01be5c61-86fa-40a6-ac0f-aa2b0e73c661"
      }
     }
    },
    "cc1562c5-706f-4aa9-8a97-e60e2d911fee": {
     "id": "cc1562c5-706f-4aa9-8a97-e60e2d911fee",
     "prev": "c7a8413e-3f54-443f-956c-7dbff1760514",
     "regions": {
      "18a1c39d-3c8d-4dd5-8ea2-a6e72c036f67": {
       "attrs": {
        "height": 0.8,
        "width": 0.8,
        "x": 0.1,
        "y": 0.1
       },
       "content": {
        "cell": "3eb74ada-cacb-4248-a4ab-b1fb1725d9ea",
        "part": "whole"
       },
       "id": "18a1c39d-3c8d-4dd5-8ea2-a6e72c036f67"
      }
     }
    },
    "cd2cab6c-9180-4bc0-a292-01e6e1b0d670": {
     "id": "cd2cab6c-9180-4bc0-a292-01e6e1b0d670",
     "prev": "f333ac52-9c4c-4385-8f05-0f524525afe1",
     "regions": {
      "9bbc335a-3123-4acc-8ca8-8716a8747812": {
       "attrs": {
        "height": 0.8,
        "width": 0.8,
        "x": 0.1,
        "y": 0.1
       },
       "content": {
        "cell": "d2641faf-1355-4adc-b048-7cee14e192d6",
        "part": "whole"
       },
       "id": "9bbc335a-3123-4acc-8ca8-8716a8747812"
      }
     }
    },
    "ce68ecab-438f-44c7-b195-22984a0335f2": {
     "id": "ce68ecab-438f-44c7-b195-22984a0335f2",
     "prev": "2476c57b-4238-4bd8-a776-31ffe1cb8070",
     "regions": {
      "cab00dbc-0978-49d1-9524-9e91ce7464d1": {
       "attrs": {
        "height": 0.8,
        "width": 0.8,
        "x": 0.1,
        "y": 0.1
       },
       "content": {
        "cell": "21f655bd-90dc-46a4-b696-0463cd3f71c3",
        "part": "whole"
       },
       "id": "cab00dbc-0978-49d1-9524-9e91ce7464d1"
      }
     }
    },
    "ceebbb2a-cfa9-4a7e-a1ce-5dc232515132": {
     "id": "ceebbb2a-cfa9-4a7e-a1ce-5dc232515132",
     "prev": "24c3a96e-7439-4265-aea1-51ccab295280",
     "regions": {
      "6d082d28-305e-43bf-83b0-127ead267130": {
       "attrs": {
        "height": 0.8,
        "width": 0.8,
        "x": 0.1,
        "y": 0.1
       },
       "content": {
        "cell": "581552dd-6184-4904-b5b9-189fec2bf2a2",
        "part": "whole"
       },
       "id": "6d082d28-305e-43bf-83b0-127ead267130"
      }
     }
    },
    "d3151089-fa5b-4556-b719-28a4d75a3543": {
     "id": "d3151089-fa5b-4556-b719-28a4d75a3543",
     "prev": "ceebbb2a-cfa9-4a7e-a1ce-5dc232515132",
     "regions": {
      "d52b633c-a16c-4652-a083-16f649118a3e": {
       "attrs": {
        "height": 0.8,
        "width": 0.8,
        "x": 0.1,
        "y": 0.1
       },
       "content": {
        "cell": "8018d5f8-3555-4c81-84af-4e5b7384796c",
        "part": "whole"
       },
       "id": "d52b633c-a16c-4652-a083-16f649118a3e"
      }
     }
    },
    "e20d3856-cd96-4e1e-a19a-6c9dcfd7d7d2": {
     "id": "e20d3856-cd96-4e1e-a19a-6c9dcfd7d7d2",
     "prev": "74ad661a-62ad-4c96-b258-b3208571defe",
     "regions": {
      "47e02361-d590-487a-84ab-1c973cfed125": {
       "attrs": {
        "height": 0.8,
        "width": 0.8,
        "x": 0.1,
        "y": 0.1
       },
       "content": {
        "cell": "6a142ee1-fbec-4713-b50d-2bddecb4c977",
        "part": "whole"
       },
       "id": "47e02361-d590-487a-84ab-1c973cfed125"
      }
     }
    },
    "e2a210f0-a275-4049-b141-731c2411d673": {
     "id": "e2a210f0-a275-4049-b141-731c2411d673",
     "prev": "0b4f9572-0065-4b2a-bf73-23d792cc5bcf",
     "regions": {
      "f56511b3-296d-40c2-b12e-b01c4122c743": {
       "attrs": {
        "height": 0.8,
        "width": 0.8,
        "x": 0.1,
        "y": 0.1
       },
       "content": {
        "cell": "c764c815-d745-4c80-a22a-99b91f5ba597",
        "part": "whole"
       },
       "id": "f56511b3-296d-40c2-b12e-b01c4122c743"
      }
     }
    },
    "e6a3fe47-b3ee-47ca-80ae-875fd4e6522c": {
     "id": "e6a3fe47-b3ee-47ca-80ae-875fd4e6522c",
     "prev": "9d591c07-9569-4e76-85f8-2f9592e328a2",
     "regions": {
      "97144bb1-df81-41fd-9773-c23712a4e00f": {
       "attrs": {
        "height": 0.8,
        "width": 0.8,
        "x": 0.1,
        "y": 0.1
       },
       "content": {
        "cell": "6c7d2025-47b7-45b5-ae1b-c5c82ebf8763",
        "part": "whole"
       },
       "id": "97144bb1-df81-41fd-9773-c23712a4e00f"
      }
     }
    },
    "e8840f00-1252-478c-88f2-af9babdb45ad": {
     "id": "e8840f00-1252-478c-88f2-af9babdb45ad",
     "prev": "ce68ecab-438f-44c7-b195-22984a0335f2",
     "regions": {
      "4ec777c9-64ee-497a-bd33-ec4c10812ead": {
       "attrs": {
        "height": 0.8,
        "width": 0.8,
        "x": 0.1,
        "y": 0.1
       },
       "content": {
        "cell": "7150c7be-fe59-418f-a5f0-aac576cef7be",
        "part": "whole"
       },
       "id": "4ec777c9-64ee-497a-bd33-ec4c10812ead"
      }
     }
    },
    "eb6c7b82-cc60-468c-a09f-ef4f5a8dc04e": {
     "id": "eb6c7b82-cc60-468c-a09f-ef4f5a8dc04e",
     "prev": "5a4e9dd7-c160-41a5-9efb-3b23120f9e8a",
     "regions": {
      "e2455085-3374-4b6c-ac38-cd40f737d93e": {
       "attrs": {
        "height": 0.8,
        "width": 0.8,
        "x": 0.1,
        "y": 0.1
       },
       "content": {
        "cell": "6368e738-b91c-4d57-a46d-87ad857d929e",
        "part": "whole"
       },
       "id": "e2455085-3374-4b6c-ac38-cd40f737d93e"
      }
     }
    },
    "f333ac52-9c4c-4385-8f05-0f524525afe1": {
     "id": "f333ac52-9c4c-4385-8f05-0f524525afe1",
     "prev": "3a156a27-66fe-48d9-851f-ccd1f384f3fa",
     "regions": {
      "b5aa51f9-ec9a-4492-a78e-9abb0ce2c1dd": {
       "attrs": {
        "height": 0.8,
        "width": 0.8,
        "x": 0.1,
        "y": 0.1
       },
       "content": {
        "cell": "df7c9d91-9d89-416a-871e-61b76c1f710a",
        "part": "whole"
       },
       "id": "b5aa51f9-ec9a-4492-a78e-9abb0ce2c1dd"
      }
     }
    },
    "f48c6e6f-0015-4c3c-ac28-f19ac4965a93": {
     "id": "f48c6e6f-0015-4c3c-ac28-f19ac4965a93",
     "prev": "8e363ed1-3a6d-4265-ae5c-a8d088925e55",
     "regions": {
      "a8b18a5c-cc8b-48e9-8507-59e61a485c68": {
       "attrs": {
        "height": 0.8,
        "width": 0.8,
        "x": 0.1,
        "y": 0.1
       },
       "content": {
        "cell": "c0f25043-1d65-4671-883d-71ae74293749",
        "part": "whole"
       },
       "id": "a8b18a5c-cc8b-48e9-8507-59e61a485c68"
      }
     }
    },
    "f769def6-8e3f-4422-a1ba-eb6bfcc0f577": {
     "id": "f769def6-8e3f-4422-a1ba-eb6bfcc0f577",
     "prev": "77bb7912-9e23-4d0f-b809-159d3bfe337d",
     "regions": {
      "e2fba639-764d-4921-a2a5-5b8d6a5b9724": {
       "attrs": {
        "height": 0.8,
        "width": 0.8,
        "x": 0.1,
        "y": 0.1
       },
       "content": {
        "cell": "861d14ae-5c0d-4b3c-8e97-8a922c267ab5",
        "part": "whole"
       },
       "id": "e2fba639-764d-4921-a2a5-5b8d6a5b9724"
      }
     }
    },
    "f7a0a1be-bb9f-4bf0-9074-8c20d9a176e9": {
     "id": "f7a0a1be-bb9f-4bf0-9074-8c20d9a176e9",
     "prev": "6a052626-1702-4a7f-ba76-79d0bb5d1539",
     "regions": {
      "afebbb92-3c3b-4516-ad2b-211a5edbea8f": {
       "attrs": {
        "height": 0.8,
        "width": 0.8,
        "x": 0.1,
        "y": 0.1
       },
       "content": {
        "cell": "a2964088-bc29-4730-ab1c-dc55a0efd3f4",
        "part": "whole"
       },
       "id": "afebbb92-3c3b-4516-ad2b-211a5edbea8f"
      }
     }
    },
    "fc1f342e-e3e6-44d8-94e4-ace76eb8712d": {
     "id": "fc1f342e-e3e6-44d8-94e4-ace76eb8712d",
     "prev": "b6904023-502f-4420-85aa-48bcab114aec",
     "regions": {
      "752a7d18-9fc0-4e02-82dc-79a70fd85bfe": {
       "attrs": {
        "height": 0.8,
        "width": 0.8,
        "x": 0.1,
        "y": 0.1
       },
       "content": {
        "cell": "d684a0d1-12c2-42b9-9546-92ab9f761810",
        "part": "whole"
       },
       "id": "752a7d18-9fc0-4e02-82dc-79a70fd85bfe"
      }
     }
    },
    "fe80815b-e755-4336-bbfc-b9fb9b128dad": {
     "id": "fe80815b-e755-4336-bbfc-b9fb9b128dad",
     "prev": "7be4ec49-6c26-448c-a614-6a3298a4e4b9",
     "regions": {
      "e6812c70-c65e-471e-85c6-458a15340aad": {
       "attrs": {
        "height": 0.8,
        "width": 0.8,
        "x": 0.1,
        "y": 0.1
       },
       "content": {
        "cell": "e6c674ad-cf24-4cf1-9bd8-6478d8320334",
        "part": "whole"
       },
       "id": "e6812c70-c65e-471e-85c6-458a15340aad"
      }
     }
    }
   },
   "themes": {}
  }
 },
 "nbformat": 4,
 "nbformat_minor": 1
}
